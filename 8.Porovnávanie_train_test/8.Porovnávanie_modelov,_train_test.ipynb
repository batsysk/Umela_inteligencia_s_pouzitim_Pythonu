{
 "cells": [
  {
   "cell_type": "markdown",
   "id": "78e41fe6-f6f6-42a1-952f-a12d2fa3e32d",
   "metadata": {},
   "source": [
    "# Porovnávanie modelov a train, test metóda\n",
    "V predošlých kapitolách sme predstavili dva modely, ktoré sa používajú na regresné a klasifikačné úlohy. <br>\n",
    "V tejto kapitole predstavíme *trénovacie a testovacie dáta* a ako vieme ovplyvňovať *presnosť* a *spôsob učenia* našich modelov."
   ]
  },
  {
   "cell_type": "markdown",
   "id": "8bbf498b-6e71-4064-9d90-852aa59e62e3",
   "metadata": {},
   "source": [
    "## Train/test split metóda\n",
    "* metódou rozdelíme dataset na trénovacie a testovacie dáta, aby sme vedeli pozorovať akú má model presnosť\n",
    "* pomocou *trénovacích* dát **trénujeme** model\n",
    "* na *testovacích* dátach model **testujeme**"
   ]
  },
  {
   "cell_type": "markdown",
   "id": "0af0bce8-a866-49a3-bbbb-f186c24cc448",
   "metadata": {},
   "source": [
    "Na začiatku máme import knižnice, import datasetu a zadefinovanie X a y premenných"
   ]
  },
  {
   "cell_type": "code",
   "execution_count": 1,
   "id": "10cea90b-8701-4697-bed3-2e4815d9d641",
   "metadata": {},
   "outputs": [],
   "source": [
    "from sklearn.datasets import load_iris\n",
    "iris = load_iris()\n",
    "X = iris.data\n",
    "y = iris.target"
   ]
  },
  {
   "cell_type": "markdown",
   "id": "b9761f29-a8ea-4e7d-89ed-ddf4a7aed8a8",
   "metadata": {},
   "source": [
    "Zadefinujeme si trénovacie a testovacie premenné s rozdelenými dátami z datasetu\n",
    "* využijeme na to zabudovanú funkciu *train_test_split*\n",
    "* *test_size* slúži na zadanie pomeru trénovacích a testovacích dát, najčastejšie pomery pre testovanie sú **60% ku 40%**, 90% ku 10% a 70% ku 30%\n",
    "* *random_state* je parameter, ktorý náhodne delí dáta (môžeme testovať viac krát rovnaký dataset s inými vybranými testovacími a trénovacími dátami) \n",
    "<br>   \n",
    "\n",
    " obrázok: randomState.png"
   ]
  },
  {
   "cell_type": "code",
   "execution_count": 2,
   "id": "1d226970-924f-44c9-a81a-fbf3ac0a5313",
   "metadata": {},
   "outputs": [],
   "source": [
    "from sklearn.model_selection import train_test_split\n",
    "X_train, X_test, y_train, y_test = train_test_split(X,y,test_size = 0.4, random_state = 4)"
   ]
  },
  {
   "cell_type": "markdown",
   "id": "2edb0055-a0f7-408d-9aa9-65da64467888",
   "metadata": {},
   "source": [
    "## KNN\n",
    "* naučíme KNN model naše trénovacie dáta"
   ]
  },
  {
   "cell_type": "code",
   "execution_count": 3,
   "id": "8da996f3-0821-48fd-977c-30f11887caae",
   "metadata": {},
   "outputs": [
    {
     "data": {
      "text/plain": [
       "KNeighborsClassifier(n_neighbors=1)"
      ]
     },
     "execution_count": 3,
     "metadata": {},
     "output_type": "execute_result"
    }
   ],
   "source": [
    "from sklearn.neighbors import KNeighborsClassifier\n",
    "knn = KNeighborsClassifier(n_neighbors = 1)\n",
    "knn.fit(X_train, y_train)"
   ]
  },
  {
   "cell_type": "markdown",
   "id": "483d421c-c703-4ab2-bc0b-964635669671",
   "metadata": {},
   "source": [
    "* pomocou metódy *predict* zistíme aké sú predikcie pre naše testovacie dáta"
   ]
  },
  {
   "cell_type": "code",
   "execution_count": 4,
   "id": "7e16f063-560b-4654-9af3-e8ad6e90b50f",
   "metadata": {},
   "outputs": [],
   "source": [
    "y_predictions = knn.predict(X_test)"
   ]
  },
  {
   "cell_type": "markdown",
   "id": "a93f1689-67be-43a1-9352-f84d82ea38e6",
   "metadata": {},
   "source": [
    "* nakoniec porovnáme na koľko sa nám zhodujú naše *predikcie* (vypočítané z trénovacích dát) s *testovacími dátami*"
   ]
  },
  {
   "cell_type": "code",
   "execution_count": 5,
   "id": "58f01a08-f3be-4fbb-9989-ff51ba31b3dd",
   "metadata": {},
   "outputs": [
    {
     "name": "stdout",
     "output_type": "stream",
     "text": [
      "0.95\n"
     ]
    }
   ],
   "source": [
    "from sklearn import metrics\n",
    "print(metrics.accuracy_score(y_test, y_predictions))"
   ]
  },
  {
   "cell_type": "markdown",
   "id": "9a1751f4-4275-4582-af17-48cbc01520cd",
   "metadata": {},
   "source": [
    "Obrázok: KNN1.png\n",
    "* vidíme, že zhoda je 95%\n",
    "Čo sa ale stane, ak dáme iné K?"
   ]
  },
  {
   "cell_type": "markdown",
   "id": "5094187e-1f21-4af9-b1e5-497336b8f993",
   "metadata": {},
   "source": [
    "## 1. programovacia úloha\n",
    "**Naprogramujte predikciu KNN modelu, kde bude K rovné 3. Testovacie dáta budú predstavovať 40% datasetu a parameter pre náhodu nechajte na 4.**"
   ]
  },
  {
   "cell_type": "code",
   "execution_count": 1,
   "id": "9d5a4f11-644e-4de7-a967-fb7038a88dc0",
   "metadata": {},
   "outputs": [
    {
     "name": "stdout",
     "output_type": "stream",
     "text": [
      "0.96\n"
     ]
    }
   ],
   "source": [
    "# riešenie\n",
    "from sklearn.datasets import load_iris\n",
    "from sklearn.model_selection import train_test_split\n",
    "from sklearn.neighbors import KNeighborsClassifier\n",
    "from sklearn import metrics\n",
    "iris = load_iris()\n",
    "\n",
    "X = iris.data\n",
    "y = iris.target\n",
    "\n",
    "X_train, X_test, y_train, y_test = train_test_split(X,y,test_size = 0.4, random_state = 4)\n",
    "\n",
    "knn = KNeighborsClassifier(n_neighbors=3)\n",
    "knn.fit(X_train, y_train)\n",
    "y_pred = knn.predict(X_test)\n",
    "print(metrics.accuracy_score(y_test, y_pred))"
   ]
  },
  {
   "cell_type": "markdown",
   "id": "c4516e0d-fd13-4188-8bb0-e75e0883a543",
   "metadata": {},
   "source": [
    "Takže náš model predikoval lepšie o jedno percento. <br>\n",
    "Skúsime ešte **K=5**. <br>\n",
    "Obrázok: KNN5.png"
   ]
  },
  {
   "cell_type": "code",
   "execution_count": 7,
   "id": "4981e92c-61cf-45db-9296-6f125548b60f",
   "metadata": {},
   "outputs": [
    {
     "name": "stdout",
     "output_type": "stream",
     "text": [
      "0.9666666666666667\n"
     ]
    }
   ],
   "source": [
    "knn = KNeighborsClassifier(n_neighbors=5)\n",
    "knn.fit(X_train, y_train)\n",
    "y_pred = knn.predict(X_test)\n",
    "print(metrics.accuracy_score(y_test, y_pred))"
   ]
  },
  {
   "cell_type": "markdown",
   "id": "4023e775-17f3-451f-a36e-211f8008c87a",
   "metadata": {},
   "source": [
    "A **K=7**."
   ]
  },
  {
   "cell_type": "code",
   "execution_count": 8,
   "id": "4b1c4358-997b-4c5a-8c3e-bab1e5d61ac6",
   "metadata": {},
   "outputs": [
    {
     "name": "stdout",
     "output_type": "stream",
     "text": [
      "0.9833333333333333\n"
     ]
    }
   ],
   "source": [
    "knn = KNeighborsClassifier(n_neighbors=7)\n",
    "knn.fit(X_train, y_train)\n",
    "y_pred = knn.predict(X_test)\n",
    "print(metrics.accuracy_score(y_test, y_pred))"
   ]
  },
  {
   "cell_type": "markdown",
   "id": "b4c9d376-75c3-434f-b145-d9ffaf253120",
   "metadata": {},
   "source": [
    "Pozorujeme, že čím vyššie je K, tým presnejší model máme, môžeme teda prísť až na 100%? <br>\n",
    "Musíme si ale uvedomiť, že sa nám s vyšším K zvyšuje aj výpočtová zložitosť. <br>\n",
    "Čo ak bude **K=25**?"
   ]
  },
  {
   "cell_type": "code",
   "execution_count": 9,
   "id": "947826e2-7477-46f1-8a3d-09417498be06",
   "metadata": {},
   "outputs": [
    {
     "name": "stdout",
     "output_type": "stream",
     "text": [
      "0.95\n"
     ]
    }
   ],
   "source": [
    "knn = KNeighborsClassifier(n_neighbors=25)\n",
    "knn.fit(X_train, y_train)\n",
    "y_pred = knn.predict(X_test)\n",
    "print(metrics.accuracy_score(y_test, y_pred))"
   ]
  },
  {
   "cell_type": "markdown",
   "id": "8c3afc69-266e-419f-9f3d-ba4dc22a2edd",
   "metadata": {},
   "source": [
    "Výsledok nám klesol. Istejšie bude, ak sa pozrieme na graf.<br>\n",
    "obrázok: KNNgraph.png <br>\n",
    "Z grafu vidíme, že *od KNN=5 až po KNN=15* môžeme očakávaš s istotou *najvyššiu možnú presnosť*.\n",
    "\n",
    "### Čiže neplatí: čím vyššie dáme číslo K v KNN, tým presnejšiu hodnotu dostaneme."
   ]
  },
  {
   "cell_type": "markdown",
   "id": "aba67f90-3227-450a-9a21-d07952fb82c6",
   "metadata": {},
   "source": [
    "## Lineárna regresia\n",
    "V *kapitole lineárna regresia* sme už použili metódu train_test_split. <br>\n",
    "Pracovali sme s datasetom o reklamách a skončili sme pri vypočítaných koeficientoch."
   ]
  },
  {
   "cell_type": "code",
   "execution_count": 10,
   "id": "2fb41666-3ac5-4631-8999-6d6e2b1a5df4",
   "metadata": {},
   "outputs": [
    {
     "data": {
      "text/plain": [
       "[('TV', 0.04656456787415028),\n",
       " ('Radio', 0.17915812245088836),\n",
       " ('Newspaper', 0.0034504647111804412)]"
      ]
     },
     "execution_count": 10,
     "metadata": {},
     "output_type": "execute_result"
    }
   ],
   "source": [
    "import pandas as pd\n",
    "from sklearn.model_selection import train_test_split\n",
    "from sklearn.linear_model import LinearRegression\n",
    "\n",
    "url = \"https://raw.githubusercontent.com/justmarkham/scikit-learn-videos/master/data/Advertising.csv\"\n",
    "data = pd.read_csv(url)\n",
    "linreg = LinearRegression()\n",
    "\n",
    "X = data[['TV', 'Radio', 'Newspaper']]\n",
    "y = data.Sales\n",
    "\n",
    "X_train, X_test, y_train, y_test = train_test_split(X, y, random_state=1)\n",
    "linreg.fit(X_train, y_train)\n",
    "\n",
    "stlpce = ['TV', 'Radio', 'Newspaper']\n",
    "list(zip(stlpce, linreg.coef_))"
   ]
  },
  {
   "cell_type": "markdown",
   "id": "d492a17b-abd4-4857-8808-55143ae25374",
   "metadata": {},
   "source": [
    "* teraz k tomu spravíme predikciu"
   ]
  },
  {
   "cell_type": "code",
   "execution_count": 11,
   "id": "f8609dd4-740b-491d-9fba-0cdb5dbe3648",
   "metadata": {},
   "outputs": [
    {
     "data": {
      "text/plain": [
       "array([21.70910292, 16.41055243,  7.60955058, 17.80769552, 18.6146359 ,\n",
       "       23.83573998, 16.32488681, 13.43225536,  9.17173403, 17.333853  ,\n",
       "       14.44479482,  9.83511973, 17.18797614, 16.73086831, 15.05529391,\n",
       "       15.61434433, 12.42541574, 17.17716376, 11.08827566, 18.00537501,\n",
       "        9.28438889, 12.98458458,  8.79950614, 10.42382499, 11.3846456 ,\n",
       "       14.98082512,  9.78853268, 19.39643187, 18.18099936, 17.12807566,\n",
       "       21.54670213, 14.69809481, 16.24641438, 12.32114579, 19.92422501,\n",
       "       15.32498602, 13.88726522, 10.03162255, 20.93105915,  7.44936831,\n",
       "        3.64695761,  7.22020178,  5.9962782 , 18.43381853,  8.39408045,\n",
       "       14.08371047, 15.02195699, 20.35836418, 20.57036347, 19.60636679])"
      ]
     },
     "execution_count": 11,
     "metadata": {},
     "output_type": "execute_result"
    }
   ],
   "source": [
    "linreg.predict(X_test)"
   ]
  },
  {
   "cell_type": "markdown",
   "id": "82ffa6ac-79f3-49ba-80ba-993bb9c4cbc8",
   "metadata": {},
   "source": [
    "* vypočítame presnosť s pomocou *score*"
   ]
  },
  {
   "cell_type": "code",
   "execution_count": 12,
   "id": "b39c7814-0ffc-4d15-9958-a045b2a4411a",
   "metadata": {},
   "outputs": [
    {
     "data": {
      "text/plain": [
       "0.9156213613792232"
      ]
     },
     "execution_count": 12,
     "metadata": {},
     "output_type": "execute_result"
    }
   ],
   "source": [
    "linreg.score(X_test,y_test)"
   ]
  },
  {
   "cell_type": "markdown",
   "id": "27bd3234-4664-4303-8112-772995caf6db",
   "metadata": {},
   "source": [
    "* náš model pracuje s presnosťou 91%"
   ]
  },
  {
   "cell_type": "markdown",
   "id": "9166a48e-bff6-4e09-8e13-c9cb3bd8da55",
   "metadata": {},
   "source": [
    "## 2. programovacia úloha\n",
    "**Naprogramujte model lineárnej regresie na datasete advertising.csv s parametrami. Testovacie dáta budú predstavovať 90% z datasetu a parameter pre náhodu bude 0.**<br>\n",
    "link na dataset: https://raw.githubusercontent.com/justmarkham/scikit-learn-videos/master/data/Advertising.csv"
   ]
  },
  {
   "cell_type": "code",
   "execution_count": 13,
   "id": "5120ab67-2439-40ee-9b7d-a421492369ed",
   "metadata": {},
   "outputs": [
    {
     "data": {
      "text/plain": [
       "0.8532420604774107"
      ]
     },
     "execution_count": 13,
     "metadata": {},
     "output_type": "execute_result"
    }
   ],
   "source": [
    "# riešenie\n",
    "import pandas as pd\n",
    "from sklearn.model_selection import train_test_split\n",
    "from sklearn.linear_model import LinearRegression\n",
    "\n",
    "url = \"https://raw.githubusercontent.com/justmarkham/scikit-learn-videos/master/data/Advertising.csv\"\n",
    "data = pd.read_csv(url)\n",
    "linreg = LinearRegression()\n",
    "\n",
    "X = data[['TV', 'Radio', 'Newspaper']]\n",
    "y = data.Sales\n",
    "\n",
    "X_train, X_test, y_train, y_test = train_test_split(X, y,test_size = 0.9, random_state = 0)\n",
    "linreg.fit(X_train, y_train)\n",
    "\n",
    "linreg.predict(X_test)\n",
    "linreg.score(X_test,y_test)"
   ]
  },
  {
   "cell_type": "markdown",
   "id": "011e560e-0e31-4404-b193-505e11219159",
   "metadata": {},
   "source": [
    "### Prečo je užitočné deliť dataset na trénovacie a testovacie dáta a na nich robiť predikcie?\n",
    "* aby sme predišli tzv. *underfitting a overfitting* a aby náš model vedel dobre pracovať s dátami, ktoré ešte nevidel\n",
    "    * **underfitting**  - ak náš dataset nevie zachytiť vzťahy medzi vstupnými a výstupnými hodnotami\n",
    "                    - keď je model *príliš jednoduchý* - potreba dlhšieho času na učenie sa\n",
    "                                                       - málo dát \n",
    "                                                       - menej podmienok\n",
    "                    - vieme to odpozorovať na chybných trénovacích a testovacích dátach                                        \n",
    "    * **overfitting**   - ak je náš dataset *priveľmi komplexný* - model sa pridlho učí <br>\n",
    "                                                  - model pracuje s podrobnými dátami \n",
    "                    - model pracuje do väčšej hĺbky s trénovacími dátami a zároveň hľadá viac súvislostí a faktorov, ale pri testovacích dátach sa toto znevýhodní a výsledky má zlé\n",
    "\n",
    "obrázok: Under-Overfitting.png"
   ]
  },
  {
   "cell_type": "markdown",
   "id": "8e2ed7c6-909c-44cf-8066-722edcfa750f",
   "metadata": {},
   "source": [
    "#### Materiály na dodatočné štúdium \n",
    "Na hlbšie preskúmanie trénovacích a testovacích dát: <br>\n",
    "https://machinelearningmastery.com/difference-test-validation-datasets/ <br>\n",
    "https://machinelearningmastery.com/train-test-split-for-evaluating-machine-learning-algorithms/ <br>\n",
    "https://towardsdatascience.com/train-test-split-and-cross-validation-in-python-80b61beca4b6 <br>\n",
    "Taktiež odporúčame GridSearchCV: <br>\n",
    "https://towardsdatascience.com/gridsearchcv-for-beginners-db48a90114ee"
   ]
  }
 ],
 "metadata": {
  "kernelspec": {
   "display_name": "Python 3",
   "language": "python",
   "name": "python3"
  },
  "language_info": {
   "codemirror_mode": {
    "name": "ipython",
    "version": 3
   },
   "file_extension": ".py",
   "mimetype": "text/x-python",
   "name": "python",
   "nbconvert_exporter": "python",
   "pygments_lexer": "ipython3",
   "version": "3.8.8"
  }
 },
 "nbformat": 4,
 "nbformat_minor": 5
}
