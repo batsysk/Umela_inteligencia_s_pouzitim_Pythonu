{
 "cells": [
  {
   "cell_type": "markdown",
   "id": "9a1f3f57-c886-4eb7-a8fb-d111067d3d08",
   "metadata": {},
   "source": [
    "# Záver\n",
    "Tento kurz bol konštruovaný aby predstavil úvod do strojového učenia, dúfame, že sa nám tento cieľ podaril. <br>\n",
    "Ak sme vo vás podnietili záujem o hlbšie štúdium, môžete sa pozrieť na nami odporúčané stránky, ktoré nájdete na konci každej kapitoly."
   ]
  },
  {
   "cell_type": "markdown",
   "id": "e5fe47ff-b1ff-4ef6-9be8-0776eb9c4509",
   "metadata": {},
   "source": [
    "Strojové učenie sa využíva napríklad v medicínskej diagnostike, v rozpoznávaní obrazov, napríklad aj pre NASA. Taktiež v rozpoznávaní zvukov a hlasov. Nájdeme jeho využitie aj v štatistike, predikcii trhu alebo doprave. <br>\n",
    "Vyskytuje sa vo veľa smeroch a taktiež sa v posledných rokoch jeho využitie rozrastá. Jeho pochopenie môže viesť k širšiemu pochopeniu nášho okolia a procesov, ktoré sa v ňom dejú. <br>\n",
    "obrázok: MLOutro.jpeg"
   ]
  }
 ],
 "metadata": {
  "kernelspec": {
   "display_name": "Python 3",
   "language": "python",
   "name": "python3"
  },
  "language_info": {
   "codemirror_mode": {
    "name": "ipython",
    "version": 3
   },
   "file_extension": ".py",
   "mimetype": "text/x-python",
   "name": "python",
   "nbconvert_exporter": "python",
   "pygments_lexer": "ipython3",
   "version": "3.8.8"
  }
 },
 "nbformat": 4,
 "nbformat_minor": 5
}
