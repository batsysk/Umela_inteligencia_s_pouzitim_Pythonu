{
 "cells": [
  {
   "cell_type": "markdown",
   "id": "024e3469-e113-4a1a-afb9-7c0fb693bc9d",
   "metadata": {},
   "source": [
    "# Lineárna regresia\n",
    "V predošlých kapitolách sme najskôr predstavili druhy učenia s učiteľom a model pre klasifikáciu. <br>\n",
    "V tejto kapitole predstavíme jeden z najzákladnejších druhov regresie a to **lineárnu regresiu**. <br>\n",
    "\n",
    "Lineárna regresia:\n",
    "* je to spôsob predikcie\n",
    "* modeluje vzťah položením priamky \n",
    "* predikuje na základe dvoch a viacerých premenných(vzťahov)\n",
    "* budeme využívať všeobecný prepis pre priamku: y = ax + b\n",
    "    * a je váha vzťahu medzi premennými\n",
    "    * b je odchýlka(bias)\n",
    "\n",
    "Obrázok: LinRegresia.png"
   ]
  },
  {
   "cell_type": "markdown",
   "id": "1a4e8db2-7930-417b-a27c-c7fc856f074e",
   "metadata": {},
   "source": [
    "Využijeme dataset o reklamách. <br>\n",
    "* ako vždy si musíme najskôr naimportovať dataset, teraz budeme používať knižnicu Pandas."
   ]
  },
  {
   "cell_type": "code",
   "execution_count": 1,
   "id": "bef7296f-6b04-41f4-a365-b5b06885b975",
   "metadata": {},
   "outputs": [
    {
     "data": {
      "text/html": [
       "<div>\n",
       "<style scoped>\n",
       "    .dataframe tbody tr th:only-of-type {\n",
       "        vertical-align: middle;\n",
       "    }\n",
       "\n",
       "    .dataframe tbody tr th {\n",
       "        vertical-align: top;\n",
       "    }\n",
       "\n",
       "    .dataframe thead th {\n",
       "        text-align: right;\n",
       "    }\n",
       "</style>\n",
       "<table border=\"1\" class=\"dataframe\">\n",
       "  <thead>\n",
       "    <tr style=\"text-align: right;\">\n",
       "      <th></th>\n",
       "      <th>Unnamed: 0</th>\n",
       "      <th>TV</th>\n",
       "      <th>Radio</th>\n",
       "      <th>Newspaper</th>\n",
       "      <th>Sales</th>\n",
       "    </tr>\n",
       "  </thead>\n",
       "  <tbody>\n",
       "    <tr>\n",
       "      <th>0</th>\n",
       "      <td>1</td>\n",
       "      <td>230.1</td>\n",
       "      <td>37.8</td>\n",
       "      <td>69.2</td>\n",
       "      <td>22.1</td>\n",
       "    </tr>\n",
       "    <tr>\n",
       "      <th>1</th>\n",
       "      <td>2</td>\n",
       "      <td>44.5</td>\n",
       "      <td>39.3</td>\n",
       "      <td>45.1</td>\n",
       "      <td>10.4</td>\n",
       "    </tr>\n",
       "    <tr>\n",
       "      <th>2</th>\n",
       "      <td>3</td>\n",
       "      <td>17.2</td>\n",
       "      <td>45.9</td>\n",
       "      <td>69.3</td>\n",
       "      <td>9.3</td>\n",
       "    </tr>\n",
       "    <tr>\n",
       "      <th>3</th>\n",
       "      <td>4</td>\n",
       "      <td>151.5</td>\n",
       "      <td>41.3</td>\n",
       "      <td>58.5</td>\n",
       "      <td>18.5</td>\n",
       "    </tr>\n",
       "    <tr>\n",
       "      <th>4</th>\n",
       "      <td>5</td>\n",
       "      <td>180.8</td>\n",
       "      <td>10.8</td>\n",
       "      <td>58.4</td>\n",
       "      <td>12.9</td>\n",
       "    </tr>\n",
       "  </tbody>\n",
       "</table>\n",
       "</div>"
      ],
      "text/plain": [
       "   Unnamed: 0     TV  Radio  Newspaper  Sales\n",
       "0           1  230.1   37.8       69.2   22.1\n",
       "1           2   44.5   39.3       45.1   10.4\n",
       "2           3   17.2   45.9       69.3    9.3\n",
       "3           4  151.5   41.3       58.5   18.5\n",
       "4           5  180.8   10.8       58.4   12.9"
      ]
     },
     "execution_count": 1,
     "metadata": {},
     "output_type": "execute_result"
    }
   ],
   "source": [
    "import pandas as pd\n",
    "url = \"https://raw.githubusercontent.com/justmarkham/scikit-learn-videos/master/data/Advertising.csv\"\n",
    "data = pd.read_csv(url)\n",
    "data.head()"
   ]
  },
  {
   "cell_type": "markdown",
   "id": "96431b37-c7c6-4a20-8e7a-9bf326a17b17",
   "metadata": {},
   "source": [
    "#### O čom je dataset? <br>\n",
    "* zaznamenáva priemerné ceny za reklamy na jeden predaný produkt"
   ]
  },
  {
   "cell_type": "code",
   "execution_count": 2,
   "id": "dce9064f-ddce-4b7c-98f3-998fa21ae7d7",
   "metadata": {},
   "outputs": [
    {
     "data": {
      "text/html": [
       "<div>\n",
       "<style scoped>\n",
       "    .dataframe tbody tr th:only-of-type {\n",
       "        vertical-align: middle;\n",
       "    }\n",
       "\n",
       "    .dataframe tbody tr th {\n",
       "        vertical-align: top;\n",
       "    }\n",
       "\n",
       "    .dataframe thead th {\n",
       "        text-align: right;\n",
       "    }\n",
       "</style>\n",
       "<table border=\"1\" class=\"dataframe\">\n",
       "  <thead>\n",
       "    <tr style=\"text-align: right;\">\n",
       "      <th></th>\n",
       "      <th>Unnamed: 0</th>\n",
       "      <th>TV</th>\n",
       "      <th>Radio</th>\n",
       "      <th>Newspaper</th>\n",
       "      <th>Sales</th>\n",
       "    </tr>\n",
       "  </thead>\n",
       "  <tbody>\n",
       "    <tr>\n",
       "      <th>0</th>\n",
       "      <td>1</td>\n",
       "      <td>230.1</td>\n",
       "      <td>37.8</td>\n",
       "      <td>69.2</td>\n",
       "      <td>22.1</td>\n",
       "    </tr>\n",
       "  </tbody>\n",
       "</table>\n",
       "</div>"
      ],
      "text/plain": [
       "   Unnamed: 0     TV  Radio  Newspaper  Sales\n",
       "0           1  230.1   37.8       69.2   22.1"
      ]
     },
     "execution_count": 2,
     "metadata": {},
     "output_type": "execute_result"
    }
   ],
   "source": [
    "data.loc[:0]"
   ]
  },
  {
   "cell_type": "markdown",
   "id": "8d41799d-c5eb-480a-a996-64e8b32b14d7",
   "metadata": {},
   "source": [
    "**Všeobecný príklad z prvého riadku:** <br>\n",
    "V prvom riadku máme 22.1 produktov, ktoré sme predali po tom, čo sme investovali 230.1 dolárov v televízii, 37.8 dolárov v rádiu a 69.2 dolárov v novinách **v priemere za reklamu na daný produkt**"
   ]
  },
  {
   "cell_type": "code",
   "execution_count": 3,
   "id": "53bd9a03-5a7e-435b-9835-bee30ef9386b",
   "metadata": {},
   "outputs": [
    {
     "data": {
      "text/html": [
       "<div>\n",
       "<style scoped>\n",
       "    .dataframe tbody tr th:only-of-type {\n",
       "        vertical-align: middle;\n",
       "    }\n",
       "\n",
       "    .dataframe tbody tr th {\n",
       "        vertical-align: top;\n",
       "    }\n",
       "\n",
       "    .dataframe thead th {\n",
       "        text-align: right;\n",
       "    }\n",
       "</style>\n",
       "<table border=\"1\" class=\"dataframe\">\n",
       "  <thead>\n",
       "    <tr style=\"text-align: right;\">\n",
       "      <th></th>\n",
       "      <th>Unnamed: 0</th>\n",
       "      <th>TV</th>\n",
       "      <th>Radio</th>\n",
       "      <th>Newspaper</th>\n",
       "      <th>Sales</th>\n",
       "    </tr>\n",
       "  </thead>\n",
       "  <tbody>\n",
       "    <tr>\n",
       "      <th>1</th>\n",
       "      <td>2</td>\n",
       "      <td>44.5</td>\n",
       "      <td>39.3</td>\n",
       "      <td>45.1</td>\n",
       "      <td>10.4</td>\n",
       "    </tr>\n",
       "  </tbody>\n",
       "</table>\n",
       "</div>"
      ],
      "text/plain": [
       "   Unnamed: 0    TV  Radio  Newspaper  Sales\n",
       "1           2  44.5   39.3       45.1   10.4"
      ]
     },
     "execution_count": 3,
     "metadata": {},
     "output_type": "execute_result"
    }
   ],
   "source": [
    "data.loc[1:1]"
   ]
  },
  {
   "cell_type": "markdown",
   "id": "d625b6ff-16c5-4db5-bdfb-35800ad566ba",
   "metadata": {},
   "source": [
    "**Konkrétny príklad z druhého riadku** [44.5, 39.3, 45.1, 10.4]: <br>\n",
    "Chceme predať naše doma vyrobené mydlo. Nevieme avšak do akých reklám investovať a teda spravíme pokus. Do televízie investujeme 44.5€ v priemere za jednu reklamu,\n",
    "do rádia investujeme o trochu menej a to 39.3€ v priemere za reklamu a novinám budeme veriť najviac a tam dáme 45.1€. Po tejto našej celkovej investícii sme predali 10.4 mydla."
   ]
  },
  {
   "cell_type": "markdown",
   "id": "dac03fa4-8496-4b45-a770-5112c66d248b",
   "metadata": {},
   "source": [
    "Pomocou metódy **describe**, sa vieme pozrieť na štatistiky nášho datasetu, vidíme napríklad, všetky vlastnosti majú 200 údajov a teda nám nechýbajú nejaké. \n",
    "Ďalej aký je *priemer, smerodajná odchýlka, minimálna hodnota, maximálna hodnota a 50% percentil* "
   ]
  },
  {
   "cell_type": "code",
   "execution_count": 4,
   "id": "7c3fe123-99be-45d3-92d0-63eb8a3b97e7",
   "metadata": {},
   "outputs": [
    {
     "data": {
      "text/html": [
       "<div>\n",
       "<style scoped>\n",
       "    .dataframe tbody tr th:only-of-type {\n",
       "        vertical-align: middle;\n",
       "    }\n",
       "\n",
       "    .dataframe tbody tr th {\n",
       "        vertical-align: top;\n",
       "    }\n",
       "\n",
       "    .dataframe thead th {\n",
       "        text-align: right;\n",
       "    }\n",
       "</style>\n",
       "<table border=\"1\" class=\"dataframe\">\n",
       "  <thead>\n",
       "    <tr style=\"text-align: right;\">\n",
       "      <th></th>\n",
       "      <th>Unnamed: 0</th>\n",
       "      <th>TV</th>\n",
       "      <th>Radio</th>\n",
       "      <th>Newspaper</th>\n",
       "      <th>Sales</th>\n",
       "    </tr>\n",
       "  </thead>\n",
       "  <tbody>\n",
       "    <tr>\n",
       "      <th>count</th>\n",
       "      <td>200.000000</td>\n",
       "      <td>200.000000</td>\n",
       "      <td>200.000000</td>\n",
       "      <td>200.000000</td>\n",
       "      <td>200.000000</td>\n",
       "    </tr>\n",
       "    <tr>\n",
       "      <th>mean</th>\n",
       "      <td>100.500000</td>\n",
       "      <td>147.042500</td>\n",
       "      <td>23.264000</td>\n",
       "      <td>30.554000</td>\n",
       "      <td>14.022500</td>\n",
       "    </tr>\n",
       "    <tr>\n",
       "      <th>std</th>\n",
       "      <td>57.879185</td>\n",
       "      <td>85.854236</td>\n",
       "      <td>14.846809</td>\n",
       "      <td>21.778621</td>\n",
       "      <td>5.217457</td>\n",
       "    </tr>\n",
       "    <tr>\n",
       "      <th>min</th>\n",
       "      <td>1.000000</td>\n",
       "      <td>0.700000</td>\n",
       "      <td>0.000000</td>\n",
       "      <td>0.300000</td>\n",
       "      <td>1.600000</td>\n",
       "    </tr>\n",
       "    <tr>\n",
       "      <th>50%</th>\n",
       "      <td>100.500000</td>\n",
       "      <td>149.750000</td>\n",
       "      <td>22.900000</td>\n",
       "      <td>25.750000</td>\n",
       "      <td>12.900000</td>\n",
       "    </tr>\n",
       "    <tr>\n",
       "      <th>max</th>\n",
       "      <td>200.000000</td>\n",
       "      <td>296.400000</td>\n",
       "      <td>49.600000</td>\n",
       "      <td>114.000000</td>\n",
       "      <td>27.000000</td>\n",
       "    </tr>\n",
       "  </tbody>\n",
       "</table>\n",
       "</div>"
      ],
      "text/plain": [
       "       Unnamed: 0          TV       Radio   Newspaper       Sales\n",
       "count  200.000000  200.000000  200.000000  200.000000  200.000000\n",
       "mean   100.500000  147.042500   23.264000   30.554000   14.022500\n",
       "std     57.879185   85.854236   14.846809   21.778621    5.217457\n",
       "min      1.000000    0.700000    0.000000    0.300000    1.600000\n",
       "50%    100.500000  149.750000   22.900000   25.750000   12.900000\n",
       "max    200.000000  296.400000   49.600000  114.000000   27.000000"
      ]
     },
     "execution_count": 4,
     "metadata": {},
     "output_type": "execute_result"
    }
   ],
   "source": [
    "data.describe(percentiles=[])"
   ]
  },
  {
   "cell_type": "markdown",
   "id": "93c784eb-0639-489e-880d-a032506ff1f2",
   "metadata": {},
   "source": [
    "Môžeme si zoradiť dáta a pozrieť sa, ktorý produkt mal najviac predajov a pri akej investícii. "
   ]
  },
  {
   "cell_type": "code",
   "execution_count": 5,
   "id": "6b9573ff-2d5b-41e1-8347-491f3c93947a",
   "metadata": {},
   "outputs": [
    {
     "data": {
      "text/html": [
       "<div>\n",
       "<style scoped>\n",
       "    .dataframe tbody tr th:only-of-type {\n",
       "        vertical-align: middle;\n",
       "    }\n",
       "\n",
       "    .dataframe tbody tr th {\n",
       "        vertical-align: top;\n",
       "    }\n",
       "\n",
       "    .dataframe thead th {\n",
       "        text-align: right;\n",
       "    }\n",
       "</style>\n",
       "<table border=\"1\" class=\"dataframe\">\n",
       "  <thead>\n",
       "    <tr style=\"text-align: right;\">\n",
       "      <th></th>\n",
       "      <th>Unnamed: 0</th>\n",
       "      <th>TV</th>\n",
       "      <th>Radio</th>\n",
       "      <th>Newspaper</th>\n",
       "      <th>Sales</th>\n",
       "    </tr>\n",
       "  </thead>\n",
       "  <tbody>\n",
       "    <tr>\n",
       "      <th>175</th>\n",
       "      <td>176</td>\n",
       "      <td>276.9</td>\n",
       "      <td>48.9</td>\n",
       "      <td>41.8</td>\n",
       "      <td>27.0</td>\n",
       "    </tr>\n",
       "    <tr>\n",
       "      <th>183</th>\n",
       "      <td>184</td>\n",
       "      <td>287.6</td>\n",
       "      <td>43.0</td>\n",
       "      <td>71.8</td>\n",
       "      <td>26.2</td>\n",
       "    </tr>\n",
       "    <tr>\n",
       "      <th>198</th>\n",
       "      <td>199</td>\n",
       "      <td>283.6</td>\n",
       "      <td>42.0</td>\n",
       "      <td>66.2</td>\n",
       "      <td>25.5</td>\n",
       "    </tr>\n",
       "    <tr>\n",
       "      <th>98</th>\n",
       "      <td>99</td>\n",
       "      <td>289.7</td>\n",
       "      <td>42.3</td>\n",
       "      <td>51.2</td>\n",
       "      <td>25.4</td>\n",
       "    </tr>\n",
       "    <tr>\n",
       "      <th>147</th>\n",
       "      <td>148</td>\n",
       "      <td>243.2</td>\n",
       "      <td>49.0</td>\n",
       "      <td>44.3</td>\n",
       "      <td>25.4</td>\n",
       "    </tr>\n",
       "    <tr>\n",
       "      <th>...</th>\n",
       "      <td>...</td>\n",
       "      <td>...</td>\n",
       "      <td>...</td>\n",
       "      <td>...</td>\n",
       "      <td>...</td>\n",
       "    </tr>\n",
       "    <tr>\n",
       "      <th>108</th>\n",
       "      <td>109</td>\n",
       "      <td>13.1</td>\n",
       "      <td>0.4</td>\n",
       "      <td>25.6</td>\n",
       "      <td>5.3</td>\n",
       "    </tr>\n",
       "    <tr>\n",
       "      <th>78</th>\n",
       "      <td>79</td>\n",
       "      <td>5.4</td>\n",
       "      <td>29.9</td>\n",
       "      <td>9.4</td>\n",
       "      <td>5.3</td>\n",
       "    </tr>\n",
       "    <tr>\n",
       "      <th>8</th>\n",
       "      <td>9</td>\n",
       "      <td>8.6</td>\n",
       "      <td>2.1</td>\n",
       "      <td>1.0</td>\n",
       "      <td>4.8</td>\n",
       "    </tr>\n",
       "    <tr>\n",
       "      <th>155</th>\n",
       "      <td>156</td>\n",
       "      <td>4.1</td>\n",
       "      <td>11.6</td>\n",
       "      <td>5.7</td>\n",
       "      <td>3.2</td>\n",
       "    </tr>\n",
       "    <tr>\n",
       "      <th>130</th>\n",
       "      <td>131</td>\n",
       "      <td>0.7</td>\n",
       "      <td>39.6</td>\n",
       "      <td>8.7</td>\n",
       "      <td>1.6</td>\n",
       "    </tr>\n",
       "  </tbody>\n",
       "</table>\n",
       "<p>200 rows × 5 columns</p>\n",
       "</div>"
      ],
      "text/plain": [
       "     Unnamed: 0     TV  Radio  Newspaper  Sales\n",
       "175         176  276.9   48.9       41.8   27.0\n",
       "183         184  287.6   43.0       71.8   26.2\n",
       "198         199  283.6   42.0       66.2   25.5\n",
       "98           99  289.7   42.3       51.2   25.4\n",
       "147         148  243.2   49.0       44.3   25.4\n",
       "..          ...    ...    ...        ...    ...\n",
       "108         109   13.1    0.4       25.6    5.3\n",
       "78           79    5.4   29.9        9.4    5.3\n",
       "8             9    8.6    2.1        1.0    4.8\n",
       "155         156    4.1   11.6        5.7    3.2\n",
       "130         131    0.7   39.6        8.7    1.6\n",
       "\n",
       "[200 rows x 5 columns]"
      ]
     },
     "execution_count": 5,
     "metadata": {},
     "output_type": "execute_result"
    }
   ],
   "source": [
    "data.sort_values(by='Sales',ascending=False, inplace=True, )\n",
    "data"
   ]
  },
  {
   "cell_type": "markdown",
   "id": "fd1f51ae-6783-4d3e-999c-6193ec33744c",
   "metadata": {},
   "source": [
    "Teraz sa pozrieme sa aké rozmery má náš dataset."
   ]
  },
  {
   "cell_type": "code",
   "execution_count": 6,
   "id": "6f78943c-d91d-4b5f-8d75-506396a69af1",
   "metadata": {},
   "outputs": [
    {
     "data": {
      "text/plain": [
       "(200, 5)"
      ]
     },
     "execution_count": 6,
     "metadata": {},
     "output_type": "execute_result"
    }
   ],
   "source": [
    "data.shape"
   ]
  },
  {
   "cell_type": "markdown",
   "id": "be2bbd46-ac6d-436c-9622-42db339d14e2",
   "metadata": {},
   "source": [
    "Pripravíme si naše **X** (2D matica vlastností a ich dát) a **y** (vektor s odpoveďami).\n",
    "* zadefinujeme si stĺpce: médiá a tie vložíme do X."
   ]
  },
  {
   "cell_type": "code",
   "execution_count": 7,
   "id": "eab64af7-2912-4365-bd68-27ab99c4e102",
   "metadata": {},
   "outputs": [
    {
     "data": {
      "text/html": [
       "<div>\n",
       "<style scoped>\n",
       "    .dataframe tbody tr th:only-of-type {\n",
       "        vertical-align: middle;\n",
       "    }\n",
       "\n",
       "    .dataframe tbody tr th {\n",
       "        vertical-align: top;\n",
       "    }\n",
       "\n",
       "    .dataframe thead th {\n",
       "        text-align: right;\n",
       "    }\n",
       "</style>\n",
       "<table border=\"1\" class=\"dataframe\">\n",
       "  <thead>\n",
       "    <tr style=\"text-align: right;\">\n",
       "      <th></th>\n",
       "      <th>TV</th>\n",
       "      <th>Radio</th>\n",
       "      <th>Newspaper</th>\n",
       "    </tr>\n",
       "  </thead>\n",
       "  <tbody>\n",
       "    <tr>\n",
       "      <th>175</th>\n",
       "      <td>276.9</td>\n",
       "      <td>48.9</td>\n",
       "      <td>41.8</td>\n",
       "    </tr>\n",
       "    <tr>\n",
       "      <th>183</th>\n",
       "      <td>287.6</td>\n",
       "      <td>43.0</td>\n",
       "      <td>71.8</td>\n",
       "    </tr>\n",
       "    <tr>\n",
       "      <th>198</th>\n",
       "      <td>283.6</td>\n",
       "      <td>42.0</td>\n",
       "      <td>66.2</td>\n",
       "    </tr>\n",
       "    <tr>\n",
       "      <th>98</th>\n",
       "      <td>289.7</td>\n",
       "      <td>42.3</td>\n",
       "      <td>51.2</td>\n",
       "    </tr>\n",
       "    <tr>\n",
       "      <th>147</th>\n",
       "      <td>243.2</td>\n",
       "      <td>49.0</td>\n",
       "      <td>44.3</td>\n",
       "    </tr>\n",
       "  </tbody>\n",
       "</table>\n",
       "</div>"
      ],
      "text/plain": [
       "        TV  Radio  Newspaper\n",
       "175  276.9   48.9       41.8\n",
       "183  287.6   43.0       71.8\n",
       "198  283.6   42.0       66.2\n",
       "98   289.7   42.3       51.2\n",
       "147  243.2   49.0       44.3"
      ]
     },
     "execution_count": 7,
     "metadata": {},
     "output_type": "execute_result"
    }
   ],
   "source": [
    "X = data[['TV', 'Radio', 'Newspaper']]\n",
    "X.head()"
   ]
  },
  {
   "cell_type": "markdown",
   "id": "b751cb97-adb9-4fdf-b085-ebaa8d103059",
   "metadata": {},
   "source": [
    "## 1.otázka\n",
    "3 správne odpovede <br>\n",
    "**Ako skontrolujeme, že má naše X požadované veľkosti dát?**<br>\n",
    "   * print(X.info) **SPRAVNE**\n",
    "   * X.shape  **SPRÁVNE**\n",
    "   * X.information\n",
    "   * X.data\n",
    "   * print(X.shape) **SPRÁVNE**\n",
    "   * X.data.shape\n",
    "   * print(X.data.shape)\n",
    "        \n",
    "        \n",
    "Pri správnej odpovedi: Správne odpovede."
   ]
  },
  {
   "cell_type": "code",
   "execution_count": 11,
   "id": "6764fbc9-22a5-4acc-8723-b9db72150b7b",
   "metadata": {},
   "outputs": [
    {
     "data": {
      "text/plain": [
       "<bound method DataFrame.info of         TV  Radio  Newspaper\n",
       "175  276.9   48.9       41.8\n",
       "183  287.6   43.0       71.8\n",
       "198  283.6   42.0       66.2\n",
       "98   289.7   42.3       51.2\n",
       "147  243.2   49.0       44.3\n",
       "..     ...    ...        ...\n",
       "108   13.1    0.4       25.6\n",
       "78     5.4   29.9        9.4\n",
       "8      8.6    2.1        1.0\n",
       "155    4.1   11.6        5.7\n",
       "130    0.7   39.6        8.7\n",
       "\n",
       "[200 rows x 3 columns]>"
      ]
     },
     "execution_count": 11,
     "metadata": {},
     "output_type": "execute_result"
    }
   ],
   "source": [
    "X.info"
   ]
  },
  {
   "cell_type": "markdown",
   "id": "6cb64c56-089a-42da-9341-3d139bff390b",
   "metadata": {},
   "source": [
    "* teraz si nadefinujeme y\n",
    "    * float64 je dátový typ, ktorý reprezentuje desatinné čísla na dĺžke max 64 bitov"
   ]
  },
  {
   "cell_type": "code",
   "execution_count": 9,
   "id": "25533bdc-5a3f-4d09-92fa-70a39c9a6496",
   "metadata": {},
   "outputs": [
    {
     "data": {
      "text/plain": [
       "175    27.0\n",
       "183    26.2\n",
       "198    25.5\n",
       "98     25.4\n",
       "147    25.4\n",
       "Name: Sales, dtype: float64"
      ]
     },
     "execution_count": 9,
     "metadata": {},
     "output_type": "execute_result"
    }
   ],
   "source": [
    "y = data.Sales\n",
    "y.head()"
   ]
  },
  {
   "cell_type": "markdown",
   "id": "8f1633c8-e33d-4603-bae5-902f5d59f774",
   "metadata": {},
   "source": [
    "* rozdelíme X a y na **trénovacie a testovacie časti**\n",
    "    * trénovacie a testovacie dáta popíšeme podrobnejšie v nasledujúcej kapitole 8\n",
    "    * na to nám poslúži model train_test_split o ktorom si povieme v neskoršej kapitole\n",
    "    * pomer rozdeľovania je 75% pre trénovacie časti a 25% pre testovacie, čo vidíme na výpisoch(máme 200 prvkov)"
   ]
  },
  {
   "cell_type": "code",
   "execution_count": 10,
   "id": "849a6f3c-4920-4cbc-b0cc-ec0e44bf8351",
   "metadata": {},
   "outputs": [
    {
     "name": "stdout",
     "output_type": "stream",
     "text": [
      "(150, 3)\n",
      "(150,)\n",
      "(50, 3)\n",
      "(50,)\n"
     ]
    }
   ],
   "source": [
    "from sklearn.model_selection import train_test_split\n",
    "X_train, X_test, y_train, y_test = train_test_split(X, y, random_state=1)\n",
    "print(X_train.shape)\n",
    "print(y_train.shape)\n",
    "print(X_test.shape)\n",
    "print(y_test.shape)"
   ]
  },
  {
   "cell_type": "markdown",
   "id": "25e8f4fc-da34-45d5-a03c-cc4a8a2da2e7",
   "metadata": {},
   "source": [
    "* naimportujeme model lineárnej regresie a uložíme ho do premennej \n",
    "* model sa naučí na našich **trénovacích dátach**"
   ]
  },
  {
   "cell_type": "code",
   "execution_count": 11,
   "id": "9f202b6b-5187-4cd7-8675-302275711371",
   "metadata": {},
   "outputs": [
    {
     "data": {
      "text/plain": [
       "LinearRegression()"
      ]
     },
     "execution_count": 11,
     "metadata": {},
     "output_type": "execute_result"
    }
   ],
   "source": [
    "from sklearn.linear_model import LinearRegression\n",
    "linreg = LinearRegression()\n",
    "linreg.fit(X_train, y_train)"
   ]
  },
  {
   "cell_type": "markdown",
   "id": "05ca1110-2d5c-4f2b-8585-0786fc32e49a",
   "metadata": {},
   "source": [
    "* v úvode sme popisovali všeobecnú rovnicu pre priamku: y = a * x + b <br>\n",
    "* my počítame ale s viacerými premennými, takže naša rovnica, po doplnení názvov, je: **y = a * TV + b * Radio + c * Newspaper + d**\n",
    "* **a**,**b**,**c** sú koeficienty a vypočítame ich pomocou *coef_* "
   ]
  },
  {
   "cell_type": "code",
   "execution_count": 12,
   "id": "83ef73b5-ca02-4024-9b7b-8449a932bbe7",
   "metadata": {},
   "outputs": [
    {
     "name": "stdout",
     "output_type": "stream",
     "text": [
      "[0.04423405 0.17835003 0.01267121]\n"
     ]
    }
   ],
   "source": [
    "print(linreg.coef_)"
   ]
  },
  {
   "cell_type": "markdown",
   "id": "f719794b-d3a5-4f42-8357-d28bbac26fcf",
   "metadata": {},
   "source": [
    "* **d** vypočítame pomocou *intercept_*, ide o konštantu, ktorá predstavuje odhadovanú priemernú hodnotu pre y ak všetky x sú 0"
   ]
  },
  {
   "cell_type": "code",
   "execution_count": 13,
   "id": "56c2a669-3dec-428b-a579-d4bb4bafc047",
   "metadata": {},
   "outputs": [
    {
     "name": "stdout",
     "output_type": "stream",
     "text": [
      "3.0513305061473392\n"
     ]
    }
   ],
   "source": [
    "print(linreg.intercept_)"
   ]
  },
  {
   "cell_type": "markdown",
   "id": "941fc230-e59e-46e3-a7a8-999efd77a0ae",
   "metadata": {},
   "source": [
    "* metóda *zip* nám spojí tieto hodnoty "
   ]
  },
  {
   "cell_type": "code",
   "execution_count": 14,
   "id": "120faaaf-2684-4663-af4f-a9ea9bf4d1d4",
   "metadata": {},
   "outputs": [
    {
     "data": {
      "text/plain": [
       "[('TV', 0.04423404829774412),\n",
       " ('Radio', 0.17835003149063658),\n",
       " ('Newspaper', 0.012671205031136284)]"
      ]
     },
     "execution_count": 14,
     "metadata": {},
     "output_type": "execute_result"
    }
   ],
   "source": [
    "stlpce = ['TV', 'Radio', 'Newspaper']\n",
    "list(zip(stlpce, linreg.coef_))"
   ]
  },
  {
   "cell_type": "markdown",
   "id": "4247c174-52c2-482a-ab52-2fe44e021393",
   "metadata": {},
   "source": [
    "### Čo znamenajú tieto dáta?\n",
    "* 0.047 nám hovorí to, že ak by sme investovali do reklám v *televízii* 1000 dolárov, tak by sme dostali o 47 viac predaných produktov (ide o odhad, predikciu)\n",
    "* pri *rádiu* je to o 18 produktov viac a pri *novinách* najmenej: o 0.3 produktu"
   ]
  },
  {
   "cell_type": "markdown",
   "id": "a5f43311-9141-4238-b996-ea4f5dd8fb4d",
   "metadata": {},
   "source": [
    "* na vizualizáciu dát použijeme *Seaborn* knižnicu\n",
    "* chceme vizualizovať **jednotlivé média** v porovnaní s ich **predajmi** \n",
    "* využívame **regresiu** ako druh modelu."
   ]
  },
  {
   "cell_type": "code",
   "execution_count": 15,
   "id": "2c0b3f05-c2a5-483f-bbb7-29eb562cf544",
   "metadata": {},
   "outputs": [
    {
     "data": {
      "text/plain": [
       "<seaborn.axisgrid.PairGrid at 0x1a41c66af70>"
      ]
     },
     "execution_count": 15,
     "metadata": {},
     "output_type": "execute_result"
    },
    {
     "data": {
      "image/png": "[encoded data removed]",
      "text/plain": [
       "<Figure size 1058.4x504 with 3 Axes>"
      ]
     },
     "metadata": {
      "needs_background": "light"
     },
     "output_type": "display_data"
    }
   ],
   "source": [
    "import seaborn as sns\n",
    "sns.pairplot(data, x_vars=['TV','Radio','Newspaper'], y_vars='Sales', height=7, aspect=0.7, kind='reg')"
   ]
  },
  {
   "cell_type": "markdown",
   "id": "6ce1af56-fc6f-4a57-b16c-ebbe96919dd3",
   "metadata": {},
   "source": [
    "#### Materiály na dodatočné štúdium\n",
    "Podrobnejšie popísaná lineárna regresia: <br>\n",
    "https://www.scribbr.com/statistics/simple-linear-regression/ <br>\n",
    "https://medium.datadriveninvestor.com/regression-in-machine-learning-296caae933ec"
   ]
  }
 ],
 "metadata": {
  "kernelspec": {
   "display_name": "Python 3",
   "language": "python",
   "name": "python3"
  },
  "language_info": {
   "codemirror_mode": {
    "name": "ipython",
    "version": 3
   },
   "file_extension": ".py",
   "mimetype": "text/x-python",
   "name": "python",
   "nbconvert_exporter": "python",
   "pygments_lexer": "ipython3",
   "version": "3.8.8"
  }
 },
 "nbformat": 4,
 "nbformat_minor": 5
}
