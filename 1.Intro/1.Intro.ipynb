{
 "cells": [
  {
   "cell_type": "markdown",
   "id": "f942cedc-1b2b-4fae-b40e-b3b6b437ef8e",
   "metadata": {},
   "source": [
    "# Úvod\n",
    "\n",
    "Cieľom tohto kurzu je **priblížiť strojové učenie a jeho princípy** študentom a záujemcom o túto problematiku. Predpokladom je *znalosť základov programovacieho jazyka Python*. <br>\n",
    "Snažili sme sa zahrnúť základy a to tak, aby boli **zrozumiteľné** a **ľahko pochopiteľné**. <br>\n",
    "Keďže ide iba o úvod, tak sa nezaoberáme témami do hĺbky, ale na konci každej kapitoly prikladáme zdroje na hlbšie štúdium.\n",
    "\n",
    "obrázok: MLIntro.jpg"
   ]
  },
  {
   "cell_type": "markdown",
   "id": "468bbf02-2f7d-4a1e-bff0-93e3ebdeb5ee",
   "metadata": {},
   "source": [
    "Kurz v jednotlivých kapitolách predstaví: <br>\n",
    "*Knižnice*, ktoré budeme využívať a prečo. <br>\n",
    "Následne predstavíme najznámejší *dataset Iris*, s ktorým budeme najviac pracovať. <br>\n",
    "V nasledujúcej kapitole o *predspracovaní dát* predstavíme ako upraviť datasety a vytvoríme si vlastný. <br>\n",
    "S trochou teórie v *učení s učiteľom* vysvetlíme modely: *klasifikátor K-najbližších susedov* a *lineárna regresia* <br>\n",
    "A nakoniec tieto modely preskúmame trochu hlbšie a ukážeme princípy trénovacích a testovacích dát. <br>"
   ]
  }
 ],
 "metadata": {
  "kernelspec": {
   "display_name": "Python 3",
   "language": "python",
   "name": "python3"
  },
  "language_info": {
   "codemirror_mode": {
    "name": "ipython",
    "version": 3
   },
   "file_extension": ".py",
   "mimetype": "text/x-python",
   "name": "python",
   "nbconvert_exporter": "python",
   "pygments_lexer": "ipython3",
   "version": "3.8.8"
  }
 },
 "nbformat": 4,
 "nbformat_minor": 5
}
