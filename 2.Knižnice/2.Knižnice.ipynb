{
 "cells": [
  {
   "cell_type": "markdown",
   "id": "2462291f-a761-4e4f-b0fe-db3439e3412f",
   "metadata": {},
   "source": [
    "# Knižnice\n",
    "Aby sme si prácu pri strojovom učení uľahčili, máme v dispozícii veľké množstvo rôznych knižníc. <br>\n",
    "Naše parametre pri hľadaní vhodných knižníc na potreby tohto kurzu:\n",
    "* popularita a momentálna využiteľnosť\n",
    "* náročnosť \n",
    "* používanie v oblastiach pre naše potreby\n",
    "\n",
    "Vzhľadom na tieto faktory sme vybrali ako hlavnú knižnicu Scikit-learn, tú si v krátkosti predstavíme."
   ]
  },
  {
   "cell_type": "markdown",
   "id": "4538dbc9-03e8-44cf-bd62-26c320ff490e",
   "metadata": {},
   "source": [
    "## Scikit-learn\n",
    "Túto knižnicu budeme využívať najviac. Obsahuje pre nás všetky potrebné funkcie ako napríklad prostriedky na prácu s klasifikáciou a regresiou, podporuje rôzne spôsoby predspracovania dát, taktiež obsahuje veľké množstvo modelov na prácu so strojovým učením a je vybudovaná na základoch knižníc: NumPy, SciPy a matplotlib."
   ]
  },
  {
   "cell_type": "code",
   "execution_count": 1,
   "id": "9a9fe97b-99f5-45f6-b671-41d9f08722fc",
   "metadata": {},
   "outputs": [],
   "source": [
    "import sklearn"
   ]
  },
  {
   "cell_type": "markdown",
   "id": "e45bafdf-b333-46a1-b201-22604d0957ce",
   "metadata": {},
   "source": [
    "Ako sme spomenuli, tak Scikit-learn bol vybudovaný na viacerých knižniciach. <br>\n",
    "Pre nás je dôležitá *NumPy knižnica*, ktorú budeme využívať na *dátové štruktúry*.\n",
    "\n",
    "## NumPy\n",
    "Knižnica implementuje prácu s maticami, kde ju využijeme najčastejšie. Okrem tohto sa častokrát používa pri práci s trigonometrickými funkciami, komplexnými číslami a napríklad s lineárnou algebrou. Vo veľa prípadoch je rýchlejšia ako štandardné výpočty a knižnice a preto je aj základným prvkom veľa knižníc."
   ]
  },
  {
   "cell_type": "code",
   "execution_count": 2,
   "id": "f1a51e78-40d4-4935-a3de-3972aac325ef",
   "metadata": {},
   "outputs": [],
   "source": [
    "import numpy as np"
   ]
  },
  {
   "cell_type": "markdown",
   "id": "ce7acc37-6076-4536-a8e0-c62f94890834",
   "metadata": {},
   "source": [
    "## Pandas\n",
    "Táto knižnica má veľké množstvo funkcií s peknou a prehľadnou vizualizáciou dát. Taktiež ju využijeme pri práci s datasetmi. \n",
    "Okrem tejto funkcionality je knižnica Pandas výborná na pokročilú prácu s umelou inteligenciou. "
   ]
  },
  {
   "cell_type": "code",
   "execution_count": 1,
   "id": "2a548a4f-916b-44a3-95b6-019aa31ff15c",
   "metadata": {},
   "outputs": [],
   "source": [
    "import pandas as pd"
   ]
  },
  {
   "cell_type": "markdown",
   "id": "e48fec0b-ee40-427b-8356-22eee0ba0bbc",
   "metadata": {},
   "source": [
    "#### Dokumentácie:\n",
    "**Scikit-learn** <br>\n",
    "https://scikit-learn.org/stable/ <br>\n",
    "**NumPy** <br>\n",
    "https://numpy.org/doc/stable/ <br> \n",
    "**Pandas** <br>\n",
    "https://pandas.pydata.org/docs/"
   ]
  }
 ],
 "metadata": {
  "kernelspec": {
   "display_name": "Python 3",
   "language": "python",
   "name": "python3"
  },
  "language_info": {
   "codemirror_mode": {
    "name": "ipython",
    "version": 3
   },
   "file_extension": ".py",
   "mimetype": "text/x-python",
   "name": "python",
   "nbconvert_exporter": "python",
   "pygments_lexer": "ipython3",
   "version": "3.8.8"
  }
 },
 "nbformat": 4,
 "nbformat_minor": 5
}
