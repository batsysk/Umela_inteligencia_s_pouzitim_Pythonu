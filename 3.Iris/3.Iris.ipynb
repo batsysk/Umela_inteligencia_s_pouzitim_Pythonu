{
 "cells": [
  {
   "cell_type": "markdown",
   "id": "39c36fde-c194-4031-b9ac-0de18ef8ff4e",
   "metadata": {},
   "source": [
    "# Dataset Iris\n",
    "\n",
    "Teraz sa pozrieme na najznámejší dataset Iris. \n",
    "Dataset je *súbor dát, ktoré vie počítač spracovať*.<br>\n",
    "**Dataset Iris:**\n",
    "* obsahuje **150 prvkov(samples)**\n",
    "* každý prvok má **4 vlastnosti(features)** a to: dĺžku a šírku okvetných lístkov(petal) a dĺžku a šírku kališných lístkov(sepal)\n",
    "* každý prvok je zaradený do jednej z **troch kategórií(class labels)**(podľa latinského názvu druhu kvetiny Iris): *Iris setosa, Iris versicolor a Iris virginica*\n",
    "Obrázok: iris.png\n",
    "\n",
    "Tento dataset je vhodný na ukázanie si základov v strojovom učení, neobsahuje priveľa a ani primálo dát, je ľahko pochopiteľný a dá sa na neho aplikovať veľa modelov a princípov."
   ]
  },
  {
   "cell_type": "markdown",
   "id": "16a4a416-c3e8-4638-86e7-2e33120bdb97",
   "metadata": {},
   "source": [
    "## 1. otázka\n",
    "(3 správne odpovede) <br>\n",
    "**Čo obsahuje dataset Iris?** <br>\n",
    "a) kategórie - názvy rastlín **SPRÁVNE** <br>\n",
    "b) kategórie - rozmery lístkov <br>\n",
    "c) prvky - jednotlivé riadky alebo merania, čiže kvetiny **SPRÁVNE** <br>\n",
    "d) prvky - názvy rastlín <br>\n",
    "e) vlastnosti - jednotlivé riadky, čiže kvetiny <br>\n",
    "f) vlastnosti - rozmery lístkov **SPRÁVNE** <br>\n",
    "\n",
    "Pri správnej odpovedi sa zobrazí okno: <br>\n",
    "\"Správne odpovede, prvkom predikujeme zaradenie do kategórií na základe ich vlastností.\""
   ]
  },
  {
   "cell_type": "markdown",
   "id": "dbd3ac7c-e43c-4cd9-aa53-2c10b4bce1e6",
   "metadata": {},
   "source": [
    "1. Najskôr si ukážeme ako sa importuje *Iris dataset* \n",
    "    * knižnicu sklearn už poznáme a použijeme konkrétne metódu **load_iris**"
   ]
  },
  {
   "cell_type": "code",
   "execution_count": 1,
   "id": "5128b7e6-8924-4d90-afeb-486cf9ec41a6",
   "metadata": {},
   "outputs": [],
   "source": [
    "# 1\n",
    "from sklearn.datasets import load_iris"
   ]
  },
  {
   "cell_type": "markdown",
   "id": "a0f1dc95-d618-4c2f-8fe6-531e3e522e09",
   "metadata": {},
   "source": [
    "2. Dataset vložíme do premennej *iris*, kvôli uľahčeniu práce.\n",
    "3. Vieme sa pozrieť aký typ má náš dataset, aby sme porozumeli štruktúre. Použijeme na to metódu: *type*\n",
    "    * dataset sa nachádza v knižnici Scikit-learn a v objekte *bunch*, čo je špeciálny kontajner na ukladanie datasetov a ich atribútov"
   ]
  },
  {
   "cell_type": "code",
   "execution_count": 2,
   "id": "3d5b24e0-ee7c-445e-bb2f-ca52ede469fc",
   "metadata": {},
   "outputs": [
    {
     "data": {
      "text/plain": [
       "sklearn.utils.Bunch"
      ]
     },
     "execution_count": 2,
     "metadata": {},
     "output_type": "execute_result"
    }
   ],
   "source": [
    "# 2\n",
    "iris = load_iris()\n",
    "# 3\n",
    "type(iris)"
   ]
  },
  {
   "cell_type": "markdown",
   "id": "f25251e6-002a-40bb-878a-5a58fc25cf3a",
   "metadata": {},
   "source": [
    "4. Teraz sa pozrieme ako vyzerá náš dataset\n",
    "    * každý riadok je jedným *pozorovaním alebo prvkom* čo je v našom prípade jedna kvetina\n",
    "    * každý stĺpec je jedna *vlastnosť* a teda každý riadok v tomto datasete má 4 vlastnosti"
   ]
  },
  {
   "cell_type": "code",
   "execution_count": 3,
   "id": "318e374a-b566-46e6-b8c7-d8bccf3a53d7",
   "metadata": {},
   "outputs": [
    {
     "name": "stdout",
     "output_type": "stream",
     "text": [
      "[[5.1 3.5 1.4 0.2]\n",
      " [4.9 3.  1.4 0.2]\n",
      " [4.7 3.2 1.3 0.2]\n",
      " [4.6 3.1 1.5 0.2]\n",
      " [5.  3.6 1.4 0.2]\n",
      " [5.4 3.9 1.7 0.4]\n",
      " [4.6 3.4 1.4 0.3]\n",
      " [5.  3.4 1.5 0.2]\n",
      " [4.4 2.9 1.4 0.2]\n",
      " [4.9 3.1 1.5 0.1]\n",
      " [5.4 3.7 1.5 0.2]\n",
      " [4.8 3.4 1.6 0.2]\n",
      " [4.8 3.  1.4 0.1]\n",
      " [4.3 3.  1.1 0.1]\n",
      " [5.8 4.  1.2 0.2]\n",
      " [5.7 4.4 1.5 0.4]\n",
      " [5.4 3.9 1.3 0.4]\n",
      " [5.1 3.5 1.4 0.3]\n",
      " [5.7 3.8 1.7 0.3]\n",
      " [5.1 3.8 1.5 0.3]\n",
      " [5.4 3.4 1.7 0.2]\n",
      " [5.1 3.7 1.5 0.4]\n",
      " [4.6 3.6 1.  0.2]\n",
      " [5.1 3.3 1.7 0.5]\n",
      " [4.8 3.4 1.9 0.2]\n",
      " [5.  3.  1.6 0.2]\n",
      " [5.  3.4 1.6 0.4]\n",
      " [5.2 3.5 1.5 0.2]\n",
      " [5.2 3.4 1.4 0.2]\n",
      " [4.7 3.2 1.6 0.2]\n",
      " [4.8 3.1 1.6 0.2]\n",
      " [5.4 3.4 1.5 0.4]\n",
      " [5.2 4.1 1.5 0.1]\n",
      " [5.5 4.2 1.4 0.2]\n",
      " [4.9 3.1 1.5 0.2]\n",
      " [5.  3.2 1.2 0.2]\n",
      " [5.5 3.5 1.3 0.2]\n",
      " [4.9 3.6 1.4 0.1]\n",
      " [4.4 3.  1.3 0.2]\n",
      " [5.1 3.4 1.5 0.2]\n",
      " [5.  3.5 1.3 0.3]\n",
      " [4.5 2.3 1.3 0.3]\n",
      " [4.4 3.2 1.3 0.2]\n",
      " [5.  3.5 1.6 0.6]\n",
      " [5.1 3.8 1.9 0.4]\n",
      " [4.8 3.  1.4 0.3]\n",
      " [5.1 3.8 1.6 0.2]\n",
      " [4.6 3.2 1.4 0.2]\n",
      " [5.3 3.7 1.5 0.2]\n",
      " [5.  3.3 1.4 0.2]\n",
      " [7.  3.2 4.7 1.4]\n",
      " [6.4 3.2 4.5 1.5]\n",
      " [6.9 3.1 4.9 1.5]\n",
      " [5.5 2.3 4.  1.3]\n",
      " [6.5 2.8 4.6 1.5]\n",
      " [5.7 2.8 4.5 1.3]\n",
      " [6.3 3.3 4.7 1.6]\n",
      " [4.9 2.4 3.3 1. ]\n",
      " [6.6 2.9 4.6 1.3]\n",
      " [5.2 2.7 3.9 1.4]\n",
      " [5.  2.  3.5 1. ]\n",
      " [5.9 3.  4.2 1.5]\n",
      " [6.  2.2 4.  1. ]\n",
      " [6.1 2.9 4.7 1.4]\n",
      " [5.6 2.9 3.6 1.3]\n",
      " [6.7 3.1 4.4 1.4]\n",
      " [5.6 3.  4.5 1.5]\n",
      " [5.8 2.7 4.1 1. ]\n",
      " [6.2 2.2 4.5 1.5]\n",
      " [5.6 2.5 3.9 1.1]\n",
      " [5.9 3.2 4.8 1.8]\n",
      " [6.1 2.8 4.  1.3]\n",
      " [6.3 2.5 4.9 1.5]\n",
      " [6.1 2.8 4.7 1.2]\n",
      " [6.4 2.9 4.3 1.3]\n",
      " [6.6 3.  4.4 1.4]\n",
      " [6.8 2.8 4.8 1.4]\n",
      " [6.7 3.  5.  1.7]\n",
      " [6.  2.9 4.5 1.5]\n",
      " [5.7 2.6 3.5 1. ]\n",
      " [5.5 2.4 3.8 1.1]\n",
      " [5.5 2.4 3.7 1. ]\n",
      " [5.8 2.7 3.9 1.2]\n",
      " [6.  2.7 5.1 1.6]\n",
      " [5.4 3.  4.5 1.5]\n",
      " [6.  3.4 4.5 1.6]\n",
      " [6.7 3.1 4.7 1.5]\n",
      " [6.3 2.3 4.4 1.3]\n",
      " [5.6 3.  4.1 1.3]\n",
      " [5.5 2.5 4.  1.3]\n",
      " [5.5 2.6 4.4 1.2]\n",
      " [6.1 3.  4.6 1.4]\n",
      " [5.8 2.6 4.  1.2]\n",
      " [5.  2.3 3.3 1. ]\n",
      " [5.6 2.7 4.2 1.3]\n",
      " [5.7 3.  4.2 1.2]\n",
      " [5.7 2.9 4.2 1.3]\n",
      " [6.2 2.9 4.3 1.3]\n",
      " [5.1 2.5 3.  1.1]\n",
      " [5.7 2.8 4.1 1.3]\n",
      " [6.3 3.3 6.  2.5]\n",
      " [5.8 2.7 5.1 1.9]\n",
      " [7.1 3.  5.9 2.1]\n",
      " [6.3 2.9 5.6 1.8]\n",
      " [6.5 3.  5.8 2.2]\n",
      " [7.6 3.  6.6 2.1]\n",
      " [4.9 2.5 4.5 1.7]\n",
      " [7.3 2.9 6.3 1.8]\n",
      " [6.7 2.5 5.8 1.8]\n",
      " [7.2 3.6 6.1 2.5]\n",
      " [6.5 3.2 5.1 2. ]\n",
      " [6.4 2.7 5.3 1.9]\n",
      " [6.8 3.  5.5 2.1]\n",
      " [5.7 2.5 5.  2. ]\n",
      " [5.8 2.8 5.1 2.4]\n",
      " [6.4 3.2 5.3 2.3]\n",
      " [6.5 3.  5.5 1.8]\n",
      " [7.7 3.8 6.7 2.2]\n",
      " [7.7 2.6 6.9 2.3]\n",
      " [6.  2.2 5.  1.5]\n",
      " [6.9 3.2 5.7 2.3]\n",
      " [5.6 2.8 4.9 2. ]\n",
      " [7.7 2.8 6.7 2. ]\n",
      " [6.3 2.7 4.9 1.8]\n",
      " [6.7 3.3 5.7 2.1]\n",
      " [7.2 3.2 6.  1.8]\n",
      " [6.2 2.8 4.8 1.8]\n",
      " [6.1 3.  4.9 1.8]\n",
      " [6.4 2.8 5.6 2.1]\n",
      " [7.2 3.  5.8 1.6]\n",
      " [7.4 2.8 6.1 1.9]\n",
      " [7.9 3.8 6.4 2. ]\n",
      " [6.4 2.8 5.6 2.2]\n",
      " [6.3 2.8 5.1 1.5]\n",
      " [6.1 2.6 5.6 1.4]\n",
      " [7.7 3.  6.1 2.3]\n",
      " [6.3 3.4 5.6 2.4]\n",
      " [6.4 3.1 5.5 1.8]\n",
      " [6.  3.  4.8 1.8]\n",
      " [6.9 3.1 5.4 2.1]\n",
      " [6.7 3.1 5.6 2.4]\n",
      " [6.9 3.1 5.1 2.3]\n",
      " [5.8 2.7 5.1 1.9]\n",
      " [6.8 3.2 5.9 2.3]\n",
      " [6.7 3.3 5.7 2.5]\n",
      " [6.7 3.  5.2 2.3]\n",
      " [6.3 2.5 5.  1.9]\n",
      " [6.5 3.  5.2 2. ]\n",
      " [6.2 3.4 5.4 2.3]\n",
      " [5.9 3.  5.1 1.8]]\n"
     ]
    }
   ],
   "source": [
    "# 4\n",
    "print (iris.data)"
   ]
  },
  {
   "cell_type": "markdown",
   "id": "90589f77-95df-4bd0-9476-e7b1bfc3f07a",
   "metadata": {},
   "source": [
    "5. Na zistenie toho o aké vlastnosti ide, využijeme príkaz *feature_names*\n",
    "    * dáta sú v centimetroch \n",
    "    * poradie je nasledujúce: dĺžka kališného lístka, šírka kališného lístka, dĺžka okvetného lístka a šírka okvetného lístka"
   ]
  },
  {
   "cell_type": "code",
   "execution_count": 4,
   "id": "cb704aba-cd2e-4b43-997f-1b26a60e807a",
   "metadata": {},
   "outputs": [
    {
     "name": "stdout",
     "output_type": "stream",
     "text": [
      "['sepal length (cm)', 'sepal width (cm)', 'petal length (cm)', 'petal width (cm)']\n"
     ]
    }
   ],
   "source": [
    "# 5\n",
    "print (iris.feature_names)"
   ]
  },
  {
   "cell_type": "markdown",
   "id": "7bc40820-a403-40cc-b035-8c8f818c05d5",
   "metadata": {},
   "source": [
    "6. Taktiež sa vieme pozrieť aké kategórie sú priradené k jednotlivým prvkom pomocou *target*\n",
    "    * kategórie sú názvy rastlín\n",
    "    * reprezentácia kategórií je číselná:  0 - setosa, 1 - versicolor, 2 - virginica\n",
    "        * vieme si to overiť s *target_names* - #7"
   ]
  },
  {
   "cell_type": "code",
   "execution_count": 5,
   "id": "7c1df936-282c-4204-852e-a6794a98db98",
   "metadata": {},
   "outputs": [
    {
     "name": "stdout",
     "output_type": "stream",
     "text": [
      "[0 0 0 0 0 0 0 0 0 0 0 0 0 0 0 0 0 0 0 0 0 0 0 0 0 0 0 0 0 0 0 0 0 0 0 0 0\n",
      " 0 0 0 0 0 0 0 0 0 0 0 0 0 1 1 1 1 1 1 1 1 1 1 1 1 1 1 1 1 1 1 1 1 1 1 1 1\n",
      " 1 1 1 1 1 1 1 1 1 1 1 1 1 1 1 1 1 1 1 1 1 1 1 1 1 1 2 2 2 2 2 2 2 2 2 2 2\n",
      " 2 2 2 2 2 2 2 2 2 2 2 2 2 2 2 2 2 2 2 2 2 2 2 2 2 2 2 2 2 2 2 2 2 2 2 2 2\n",
      " 2 2]\n"
     ]
    }
   ],
   "source": [
    "# 6\n",
    "print (iris.target)"
   ]
  },
  {
   "cell_type": "code",
   "execution_count": 6,
   "id": "db52d635-69a9-4746-9590-d2fd449788de",
   "metadata": {},
   "outputs": [
    {
     "name": "stdout",
     "output_type": "stream",
     "text": [
      "['setosa' 'versicolor' 'virginica']\n"
     ]
    }
   ],
   "source": [
    "# 7\n",
    "print (iris.target_names)"
   ]
  },
  {
   "cell_type": "markdown",
   "id": "261110b8-c293-407d-b33c-d1587462edea",
   "metadata": {},
   "source": [
    "Napríklad máme 1. prvok datasetu: "
   ]
  },
  {
   "cell_type": "markdown",
   "id": "3a4783ff-cbaa-43aa-8735-5ded198b92a7",
   "metadata": {},
   "source": [
    "| dĺžka kalíšneho | šírka kalíšneho | dĺžka okvetného | šírka okvetného |\n",
    "|:---------------:|:---------------:|:---------------:|:---------------:|\n",
    "|              5.1|              3.5|              1.4|              0.2|\n",
    "\n"
   ]
  },
  {
   "cell_type": "markdown",
   "id": "f0207c09-4504-42ea-b0e6-f2b06fab654c",
   "metadata": {},
   "source": [
    "Z tohto pozorovania vidíme, že prvá kvetina v našom datasete má *5,1cm dĺžku a 3,5cm šírku kališného lístka* a *1,4cm dĺžku a 0,2cm šírku okvetného lístka*. <br>\n",
    "Ďalej vieme, že presne táto kvetina má hodnotu *0* v matici s druhmi a toto číslo predstavuje *Iris setosu*."
   ]
  },
  {
   "cell_type": "markdown",
   "id": "d889aa52-219e-439f-9713-ea5be8595a03",
   "metadata": {},
   "source": [
    "### Prečo potrebujeme uchovávať názvy kvetín oddelene?\n",
    "\n",
    "Je to preto, že tento dataset pracuje **iba s číselnými hodnotami**, ale potom by sme nevedeli, čo znamenajú 0,1,2 a teda obsahuje oddelené pole názvov."
   ]
  },
  {
   "cell_type": "markdown",
   "id": "410f8e54-dc36-4619-97ab-d8795d5d4e8c",
   "metadata": {},
   "source": [
    "## 2. otázka\n",
    "(Priradenie zadaní s odpoveďami)<br>\n",
    "**Priraďte príklady k ich správnym pojmom (pojem môže mať aj viaceré možnosti, priraďte všetky správne):**\n",
    "1. kategória\n",
    "2. vlastnosť\n",
    "3. prvok\n",
    "5. pozorovanie\n",
    "\n",
    "i) Iris Setosa <br>\n",
    "ii) riadok matice iris.data <br>\n",
    "iii) versicolor <br>\n",
    "iv) stĺpec matice iris.data <br>\n",
    "v) [6.7 3.1 5.6 2.4] <br>\n",
    "\n",
    "\n",
    "Správne odpovede: <br>\n",
    "kategória - Iris Setosa a versicolor <br>\n",
    "vlastnosť - stĺpec matice iris.data <br>\n",
    "prvok -  riadok matice iris.data, [6.7 3.1 5.6 2.4] <br>\n",
    "pozorovanie - riadok matice iris.data, [6.7 3.1 5.6 2.4] <br>\n",
    "\n",
    "\n",
    "Pri správnej odpovedi sa zobrazí okno:<br>\n",
    "\"Správne odpovede.\""
   ]
  },
  {
   "cell_type": "markdown",
   "id": "1a02871e-3e44-464d-ab6d-06dca2ad88ba",
   "metadata": {},
   "source": [
    "## 1. programovacia úloha\n",
    "**Naimportujte dataset iris, uložte ho do premennej a spravte nasledovné:**<br>\n",
    "    * Zobrazte maticu s 10 vzorkami kvetín a pomenujte ju 'Iris dataset'<br>"
   ]
  },
  {
   "cell_type": "code",
   "execution_count": 7,
   "id": "1e0e00f7-fb2b-47e4-8906-5122ea9c443d",
   "metadata": {},
   "outputs": [
    {
     "name": "stdout",
     "output_type": "stream",
     "text": [
      "Iris dataset [[5.1 3.5 1.4 0.2]\n",
      " [4.9 3.  1.4 0.2]\n",
      " [4.7 3.2 1.3 0.2]\n",
      " [4.6 3.1 1.5 0.2]\n",
      " [5.  3.6 1.4 0.2]\n",
      " [5.4 3.9 1.7 0.4]\n",
      " [4.6 3.4 1.4 0.3]\n",
      " [5.  3.4 1.5 0.2]\n",
      " [4.4 2.9 1.4 0.2]\n",
      " [4.9 3.1 1.5 0.1]]\n",
      "Iris dataset \n",
      "[[5.1 3.5 1.4 0.2]\n",
      " [4.9 3.  1.4 0.2]\n",
      " [4.7 3.2 1.3 0.2]\n",
      " [4.6 3.1 1.5 0.2]\n",
      " [5.  3.6 1.4 0.2]\n",
      " [5.4 3.9 1.7 0.4]\n",
      " [4.6 3.4 1.4 0.3]\n",
      " [5.  3.4 1.5 0.2]\n",
      " [4.4 2.9 1.4 0.2]\n",
      " [4.9 3.1 1.5 0.1]]\n"
     ]
    }
   ],
   "source": [
    "# správne odpovede\n",
    "from sklearn.datasets import load_iris\n",
    "iris = load_iris()\n",
    "\n",
    "print(\"Iris dataset {}\".format(iris['data'][:10]))\n",
    "# alebo\n",
    "print(\"Iris dataset \\n{}\".format(iris['data'][:10]))\n"
   ]
  },
  {
   "cell_type": "code",
   "execution_count": 3,
   "id": "38b015bc-117f-4ad4-b603-38c9a95d5a0b",
   "metadata": {},
   "outputs": [
    {
     "ename": "TypeError",
     "evalue": "'numpy.ndarray' object is not callable",
     "output_type": "error",
     "traceback": [
      "\u001b[1;31m---------------------------------------------------------------------------\u001b[0m",
      "\u001b[1;31mTypeError\u001b[0m                                 Traceback (most recent call last)",
      "\u001b[1;32m<ipython-input-3-b82baa189673>\u001b[0m in \u001b[0;36m<module>\u001b[1;34m\u001b[0m\n\u001b[0;32m      1\u001b[0m \u001b[1;32mfrom\u001b[0m \u001b[0msklearn\u001b[0m\u001b[1;33m.\u001b[0m\u001b[0mdatasets\u001b[0m \u001b[1;32mimport\u001b[0m \u001b[0mload_iris\u001b[0m\u001b[1;33m\u001b[0m\u001b[1;33m\u001b[0m\u001b[0m\n\u001b[0;32m      2\u001b[0m \u001b[0mIris_dataset\u001b[0m\u001b[1;33m=\u001b[0m\u001b[0mload_iris\u001b[0m\u001b[1;33m(\u001b[0m\u001b[1;33m)\u001b[0m\u001b[1;33m\u001b[0m\u001b[1;33m\u001b[0m\u001b[0m\n\u001b[1;32m----> 3\u001b[1;33m \u001b[0mprint\u001b[0m \u001b[1;33m(\u001b[0m\u001b[0mIris_dataset\u001b[0m\u001b[1;33m.\u001b[0m\u001b[0mdata\u001b[0m\u001b[1;33m(\u001b[0m\u001b[1;36m10\u001b[0m\u001b[1;33m)\u001b[0m\u001b[1;33m)\u001b[0m\u001b[1;33m\u001b[0m\u001b[1;33m\u001b[0m\u001b[0m\n\u001b[0m",
      "\u001b[1;31mTypeError\u001b[0m: 'numpy.ndarray' object is not callable"
     ]
    }
   ],
   "source": [
    "from sklearn.datasets import load_iris\n",
    "Iris_dataset=load_iris()\n",
    "print (Iris_dataset.data(10))"
   ]
  },
  {
   "cell_type": "markdown",
   "id": "8743593b-36fe-443f-a9f5-24122244ab38",
   "metadata": {},
   "source": [
    "Pre budúce potreby budeme potrebovať rozdeliť dataset na **X a y**. <br>\n",
    "* X predstavuje maticu, ktorá obsahuje dáta zložené zo *všetkých vlastností pre všetky prvky*\n",
    "* y je vlastne 1D matica, čiže pole a obsahuje naše výsledky datasetu <br>\n",
    "\n",
    "To, že X je **veľké** a y **malé** má význam, ide o *vizuálnu reprezentáciu* viacrozmernej matice(X) a 1D matice(y)."
   ]
  },
  {
   "cell_type": "code",
   "execution_count": 8,
   "id": "8239701e-7274-4528-8319-a6e95c5b7040",
   "metadata": {},
   "outputs": [],
   "source": [
    "X = iris.data\n",
    "y = iris.target"
   ]
  },
  {
   "cell_type": "code",
   "execution_count": 9,
   "id": "b0456f7a-f3ae-447c-9874-30519286d14e",
   "metadata": {},
   "outputs": [
    {
     "name": "stdout",
     "output_type": "stream",
     "text": [
      "(150, 4)\n",
      "(150,)\n"
     ]
    }
   ],
   "source": [
    "print (X.shape)\n",
    "print (y.shape)"
   ]
  },
  {
   "cell_type": "markdown",
   "id": "09f33083-d1f8-46d6-bb94-58b33c7ded8c",
   "metadata": {},
   "source": [
    "Dáta vieme vizualizovať krajšie za pomoci knižníc *Pandas a NumPy*. <br>\n",
    "   "
   ]
  },
  {
   "cell_type": "code",
   "execution_count": 10,
   "id": "bd573eb5-a69b-4703-bb46-c45cbe91b8b5",
   "metadata": {},
   "outputs": [
    {
     "name": "stdout",
     "output_type": "stream",
     "text": [
      "    KališnýL_dĺžka  KališnýL_šírka  OkvetnýL_dĺžka  OkvetnýL_šírka  \\\n",
      "0              5.1             3.5             1.4             0.2   \n",
      "1              4.9             3.0             1.4             0.2   \n",
      "2              4.7             3.2             1.3             0.2   \n",
      "3              4.6             3.1             1.5             0.2   \n",
      "4              5.0             3.6             1.4             0.2   \n",
      "5              5.4             3.9             1.7             0.4   \n",
      "6              4.6             3.4             1.4             0.3   \n",
      "7              5.0             3.4             1.5             0.2   \n",
      "8              4.4             2.9             1.4             0.2   \n",
      "9              4.9             3.1             1.5             0.1   \n",
      "10             5.4             3.7             1.5             0.2   \n",
      "11             4.8             3.4             1.6             0.2   \n",
      "12             4.8             3.0             1.4             0.1   \n",
      "13             4.3             3.0             1.1             0.1   \n",
      "14             5.8             4.0             1.2             0.2   \n",
      "15             5.7             4.4             1.5             0.4   \n",
      "16             5.4             3.9             1.3             0.4   \n",
      "17             5.1             3.5             1.4             0.3   \n",
      "18             5.7             3.8             1.7             0.3   \n",
      "19             5.1             3.8             1.5             0.3   \n",
      "20             5.4             3.4             1.7             0.2   \n",
      "21             5.1             3.7             1.5             0.4   \n",
      "22             4.6             3.6             1.0             0.2   \n",
      "23             5.1             3.3             1.7             0.5   \n",
      "24             4.8             3.4             1.9             0.2   \n",
      "25             5.0             3.0             1.6             0.2   \n",
      "26             5.0             3.4             1.6             0.4   \n",
      "27             5.2             3.5             1.5             0.2   \n",
      "28             5.2             3.4             1.4             0.2   \n",
      "29             4.7             3.2             1.6             0.2   \n",
      "30             4.8             3.1             1.6             0.2   \n",
      "31             5.4             3.4             1.5             0.4   \n",
      "32             5.2             4.1             1.5             0.1   \n",
      "33             5.5             4.2             1.4             0.2   \n",
      "34             4.9             3.1             1.5             0.1   \n",
      "35             5.0             3.2             1.2             0.2   \n",
      "36             5.5             3.5             1.3             0.2   \n",
      "37             4.9             3.1             1.5             0.1   \n",
      "38             4.4             3.0             1.3             0.2   \n",
      "39             5.1             3.4             1.5             0.2   \n",
      "40             5.0             3.5             1.3             0.3   \n",
      "41             4.5             2.3             1.3             0.3   \n",
      "42             4.4             3.2             1.3             0.2   \n",
      "43             5.0             3.5             1.6             0.6   \n",
      "44             5.1             3.8             1.9             0.4   \n",
      "45             4.8             3.0             1.4             0.3   \n",
      "46             5.1             3.8             1.6             0.2   \n",
      "47             4.6             3.2             1.4             0.2   \n",
      "48             5.3             3.7             1.5             0.2   \n",
      "49             5.0             3.3             1.4             0.2   \n",
      "\n",
      "      Kategórie  \n",
      "0   Iris-setosa  \n",
      "1   Iris-setosa  \n",
      "2   Iris-setosa  \n",
      "3   Iris-setosa  \n",
      "4   Iris-setosa  \n",
      "5   Iris-setosa  \n",
      "6   Iris-setosa  \n",
      "7   Iris-setosa  \n",
      "8   Iris-setosa  \n",
      "9   Iris-setosa  \n",
      "10  Iris-setosa  \n",
      "11  Iris-setosa  \n",
      "12  Iris-setosa  \n",
      "13  Iris-setosa  \n",
      "14  Iris-setosa  \n",
      "15  Iris-setosa  \n",
      "16  Iris-setosa  \n",
      "17  Iris-setosa  \n",
      "18  Iris-setosa  \n",
      "19  Iris-setosa  \n",
      "20  Iris-setosa  \n",
      "21  Iris-setosa  \n",
      "22  Iris-setosa  \n",
      "23  Iris-setosa  \n",
      "24  Iris-setosa  \n",
      "25  Iris-setosa  \n",
      "26  Iris-setosa  \n",
      "27  Iris-setosa  \n",
      "28  Iris-setosa  \n",
      "29  Iris-setosa  \n",
      "30  Iris-setosa  \n",
      "31  Iris-setosa  \n",
      "32  Iris-setosa  \n",
      "33  Iris-setosa  \n",
      "34  Iris-setosa  \n",
      "35  Iris-setosa  \n",
      "36  Iris-setosa  \n",
      "37  Iris-setosa  \n",
      "38  Iris-setosa  \n",
      "39  Iris-setosa  \n",
      "40  Iris-setosa  \n",
      "41  Iris-setosa  \n",
      "42  Iris-setosa  \n",
      "43  Iris-setosa  \n",
      "44  Iris-setosa  \n",
      "45  Iris-setosa  \n",
      "46  Iris-setosa  \n",
      "47  Iris-setosa  \n",
      "48  Iris-setosa  \n",
      "49  Iris-setosa  \n"
     ]
    }
   ],
   "source": [
    "# Pandas knižnicu naimportujeme a pomenujeme ju pd\n",
    "import pandas as pd\n",
    "url = 'https://archive.ics.uci.edu/ml/machine-learning-databases/iris/iris.data'\n",
    "# zadefinujeme si názvy stĺpcov \n",
    "col_names = ['KališnýL_dĺžka','KališnýL_šírka','OkvetnýL_dĺžka','OkvetnýL_šírka','Kategórie']\n",
    "# načítame do premennej dataset z url\n",
    "pandas_iris =  pd.read_csv(url, names = col_names)\n",
    "# nakoniec vypíšeme dataset do tabuľky \n",
    "print(pandas_iris.head(50))"
   ]
  },
  {
   "cell_type": "markdown",
   "id": "f71a3485-fb58-4253-bf24-492ecdc1121b",
   "metadata": {},
   "source": [
    "Vďaka knižnici Pandas máme dataset prehľadnejší a vieme si aj vizualizovať dáta do grafov, napríklad za pomoci DataFramov (ide o dátovú štruktúru):"
   ]
  },
  {
   "cell_type": "code",
   "execution_count": 11,
   "id": "abdc0da7-3a7b-4eed-a346-16a2ffd5cdab",
   "metadata": {},
   "outputs": [
    {
     "data": {
      "text/plain": [
       "<AxesSubplot:>"
      ]
     },
     "execution_count": 11,
     "metadata": {},
     "output_type": "execute_result"
    },
    {
     "data": {
      "image/png": "[encoded data removed]",
      "text/plain": [
       "<Figure size 432x288 with 1 Axes>"
      ]
     },
     "metadata": {
      "needs_background": "light"
     },
     "output_type": "display_data"
    }
   ],
   "source": [
    "import numpy as np\n",
    "iris = load_iris()\n",
    "df = pd.DataFrame(data= np.c_[iris['data'], iris['target']],\n",
    "                     columns= iris['feature_names'] + ['target'])\n",
    "df.plot()"
   ]
  },
  {
   "cell_type": "markdown",
   "id": "0ce5d198-0a24-4a35-80f4-d86688aed1bd",
   "metadata": {},
   "source": [
    "Taktiež vieme vizualizovať dataset aj inými spôsobmi."
   ]
  },
  {
   "cell_type": "code",
   "execution_count": 12,
   "id": "53049486-7e61-4e9f-8b2d-453c70a499ed",
   "metadata": {},
   "outputs": [
    {
     "data": {
      "text/html": [
       "<div>\n",
       "<style scoped>\n",
       "    .dataframe tbody tr th:only-of-type {\n",
       "        vertical-align: middle;\n",
       "    }\n",
       "\n",
       "    .dataframe tbody tr th {\n",
       "        vertical-align: top;\n",
       "    }\n",
       "\n",
       "    .dataframe thead th {\n",
       "        text-align: right;\n",
       "    }\n",
       "</style>\n",
       "<table border=\"1\" class=\"dataframe\">\n",
       "  <thead>\n",
       "    <tr style=\"text-align: right;\">\n",
       "      <th></th>\n",
       "      <th>sepal length (cm)</th>\n",
       "      <th>sepal width (cm)</th>\n",
       "      <th>petal length (cm)</th>\n",
       "      <th>petal width (cm)</th>\n",
       "      <th>target</th>\n",
       "    </tr>\n",
       "  </thead>\n",
       "  <tbody>\n",
       "    <tr>\n",
       "      <th>0</th>\n",
       "      <td>5.1</td>\n",
       "      <td>3.5</td>\n",
       "      <td>1.4</td>\n",
       "      <td>0.2</td>\n",
       "      <td>0.0</td>\n",
       "    </tr>\n",
       "    <tr>\n",
       "      <th>1</th>\n",
       "      <td>4.9</td>\n",
       "      <td>3.0</td>\n",
       "      <td>1.4</td>\n",
       "      <td>0.2</td>\n",
       "      <td>0.0</td>\n",
       "    </tr>\n",
       "    <tr>\n",
       "      <th>2</th>\n",
       "      <td>4.7</td>\n",
       "      <td>3.2</td>\n",
       "      <td>1.3</td>\n",
       "      <td>0.2</td>\n",
       "      <td>0.0</td>\n",
       "    </tr>\n",
       "    <tr>\n",
       "      <th>3</th>\n",
       "      <td>4.6</td>\n",
       "      <td>3.1</td>\n",
       "      <td>1.5</td>\n",
       "      <td>0.2</td>\n",
       "      <td>0.0</td>\n",
       "    </tr>\n",
       "    <tr>\n",
       "      <th>4</th>\n",
       "      <td>5.0</td>\n",
       "      <td>3.6</td>\n",
       "      <td>1.4</td>\n",
       "      <td>0.2</td>\n",
       "      <td>0.0</td>\n",
       "    </tr>\n",
       "  </tbody>\n",
       "</table>\n",
       "</div>"
      ],
      "text/plain": [
       "   sepal length (cm)  sepal width (cm)  petal length (cm)  petal width (cm)  \\\n",
       "0                5.1               3.5                1.4               0.2   \n",
       "1                4.9               3.0                1.4               0.2   \n",
       "2                4.7               3.2                1.3               0.2   \n",
       "3                4.6               3.1                1.5               0.2   \n",
       "4                5.0               3.6                1.4               0.2   \n",
       "\n",
       "   target  \n",
       "0     0.0  \n",
       "1     0.0  \n",
       "2     0.0  \n",
       "3     0.0  \n",
       "4     0.0  "
      ]
     },
     "execution_count": 12,
     "metadata": {},
     "output_type": "execute_result"
    }
   ],
   "source": [
    "df.head()"
   ]
  },
  {
   "cell_type": "code",
   "execution_count": 13,
   "id": "f282fb27-1358-434a-9479-3c90f3319b65",
   "metadata": {},
   "outputs": [
    {
     "data": {
      "text/html": [
       "<div>\n",
       "<style scoped>\n",
       "    .dataframe tbody tr th:only-of-type {\n",
       "        vertical-align: middle;\n",
       "    }\n",
       "\n",
       "    .dataframe tbody tr th {\n",
       "        vertical-align: top;\n",
       "    }\n",
       "\n",
       "    .dataframe thead th {\n",
       "        text-align: right;\n",
       "    }\n",
       "</style>\n",
       "<table border=\"1\" class=\"dataframe\">\n",
       "  <thead>\n",
       "    <tr style=\"text-align: right;\">\n",
       "      <th></th>\n",
       "      <th>sepal length (cm)</th>\n",
       "      <th>sepal width (cm)</th>\n",
       "      <th>petal length (cm)</th>\n",
       "      <th>petal width (cm)</th>\n",
       "      <th>target</th>\n",
       "    </tr>\n",
       "  </thead>\n",
       "  <tbody>\n",
       "    <tr>\n",
       "      <th>145</th>\n",
       "      <td>6.7</td>\n",
       "      <td>3.0</td>\n",
       "      <td>5.2</td>\n",
       "      <td>2.3</td>\n",
       "      <td>2.0</td>\n",
       "    </tr>\n",
       "    <tr>\n",
       "      <th>146</th>\n",
       "      <td>6.3</td>\n",
       "      <td>2.5</td>\n",
       "      <td>5.0</td>\n",
       "      <td>1.9</td>\n",
       "      <td>2.0</td>\n",
       "    </tr>\n",
       "    <tr>\n",
       "      <th>147</th>\n",
       "      <td>6.5</td>\n",
       "      <td>3.0</td>\n",
       "      <td>5.2</td>\n",
       "      <td>2.0</td>\n",
       "      <td>2.0</td>\n",
       "    </tr>\n",
       "    <tr>\n",
       "      <th>148</th>\n",
       "      <td>6.2</td>\n",
       "      <td>3.4</td>\n",
       "      <td>5.4</td>\n",
       "      <td>2.3</td>\n",
       "      <td>2.0</td>\n",
       "    </tr>\n",
       "    <tr>\n",
       "      <th>149</th>\n",
       "      <td>5.9</td>\n",
       "      <td>3.0</td>\n",
       "      <td>5.1</td>\n",
       "      <td>1.8</td>\n",
       "      <td>2.0</td>\n",
       "    </tr>\n",
       "  </tbody>\n",
       "</table>\n",
       "</div>"
      ],
      "text/plain": [
       "     sepal length (cm)  sepal width (cm)  petal length (cm)  petal width (cm)  \\\n",
       "145                6.7               3.0                5.2               2.3   \n",
       "146                6.3               2.5                5.0               1.9   \n",
       "147                6.5               3.0                5.2               2.0   \n",
       "148                6.2               3.4                5.4               2.3   \n",
       "149                5.9               3.0                5.1               1.8   \n",
       "\n",
       "     target  \n",
       "145     2.0  \n",
       "146     2.0  \n",
       "147     2.0  \n",
       "148     2.0  \n",
       "149     2.0  "
      ]
     },
     "execution_count": 13,
     "metadata": {},
     "output_type": "execute_result"
    }
   ],
   "source": [
    "df.tail()"
   ]
  },
  {
   "cell_type": "markdown",
   "id": "00fdcf92-96a8-4c3c-b05b-13e0ba261003",
   "metadata": {},
   "source": [
    "Alebo môžeme pozrieť základné štatistické metódy."
   ]
  },
  {
   "cell_type": "code",
   "execution_count": 14,
   "id": "6797d75f-a555-42ce-b0e1-87f7f0133418",
   "metadata": {},
   "outputs": [
    {
     "data": {
      "text/html": [
       "<div>\n",
       "<style scoped>\n",
       "    .dataframe tbody tr th:only-of-type {\n",
       "        vertical-align: middle;\n",
       "    }\n",
       "\n",
       "    .dataframe tbody tr th {\n",
       "        vertical-align: top;\n",
       "    }\n",
       "\n",
       "    .dataframe thead th {\n",
       "        text-align: right;\n",
       "    }\n",
       "</style>\n",
       "<table border=\"1\" class=\"dataframe\">\n",
       "  <thead>\n",
       "    <tr style=\"text-align: right;\">\n",
       "      <th></th>\n",
       "      <th>sepal length (cm)</th>\n",
       "      <th>sepal width (cm)</th>\n",
       "      <th>petal length (cm)</th>\n",
       "      <th>petal width (cm)</th>\n",
       "      <th>target</th>\n",
       "    </tr>\n",
       "  </thead>\n",
       "  <tbody>\n",
       "    <tr>\n",
       "      <th>count</th>\n",
       "      <td>150.000000</td>\n",
       "      <td>150.000000</td>\n",
       "      <td>150.000000</td>\n",
       "      <td>150.000000</td>\n",
       "      <td>150.000000</td>\n",
       "    </tr>\n",
       "    <tr>\n",
       "      <th>mean</th>\n",
       "      <td>5.843333</td>\n",
       "      <td>3.057333</td>\n",
       "      <td>3.758000</td>\n",
       "      <td>1.199333</td>\n",
       "      <td>1.000000</td>\n",
       "    </tr>\n",
       "    <tr>\n",
       "      <th>std</th>\n",
       "      <td>0.828066</td>\n",
       "      <td>0.435866</td>\n",
       "      <td>1.765298</td>\n",
       "      <td>0.762238</td>\n",
       "      <td>0.819232</td>\n",
       "    </tr>\n",
       "    <tr>\n",
       "      <th>min</th>\n",
       "      <td>4.300000</td>\n",
       "      <td>2.000000</td>\n",
       "      <td>1.000000</td>\n",
       "      <td>0.100000</td>\n",
       "      <td>0.000000</td>\n",
       "    </tr>\n",
       "    <tr>\n",
       "      <th>25%</th>\n",
       "      <td>5.100000</td>\n",
       "      <td>2.800000</td>\n",
       "      <td>1.600000</td>\n",
       "      <td>0.300000</td>\n",
       "      <td>0.000000</td>\n",
       "    </tr>\n",
       "    <tr>\n",
       "      <th>50%</th>\n",
       "      <td>5.800000</td>\n",
       "      <td>3.000000</td>\n",
       "      <td>4.350000</td>\n",
       "      <td>1.300000</td>\n",
       "      <td>1.000000</td>\n",
       "    </tr>\n",
       "    <tr>\n",
       "      <th>75%</th>\n",
       "      <td>6.400000</td>\n",
       "      <td>3.300000</td>\n",
       "      <td>5.100000</td>\n",
       "      <td>1.800000</td>\n",
       "      <td>2.000000</td>\n",
       "    </tr>\n",
       "    <tr>\n",
       "      <th>max</th>\n",
       "      <td>7.900000</td>\n",
       "      <td>4.400000</td>\n",
       "      <td>6.900000</td>\n",
       "      <td>2.500000</td>\n",
       "      <td>2.000000</td>\n",
       "    </tr>\n",
       "  </tbody>\n",
       "</table>\n",
       "</div>"
      ],
      "text/plain": [
       "       sepal length (cm)  sepal width (cm)  petal length (cm)  \\\n",
       "count         150.000000        150.000000         150.000000   \n",
       "mean            5.843333          3.057333           3.758000   \n",
       "std             0.828066          0.435866           1.765298   \n",
       "min             4.300000          2.000000           1.000000   \n",
       "25%             5.100000          2.800000           1.600000   \n",
       "50%             5.800000          3.000000           4.350000   \n",
       "75%             6.400000          3.300000           5.100000   \n",
       "max             7.900000          4.400000           6.900000   \n",
       "\n",
       "       petal width (cm)      target  \n",
       "count        150.000000  150.000000  \n",
       "mean           1.199333    1.000000  \n",
       "std            0.762238    0.819232  \n",
       "min            0.100000    0.000000  \n",
       "25%            0.300000    0.000000  \n",
       "50%            1.300000    1.000000  \n",
       "75%            1.800000    2.000000  \n",
       "max            2.500000    2.000000  "
      ]
     },
     "execution_count": 14,
     "metadata": {},
     "output_type": "execute_result"
    }
   ],
   "source": [
    "df.describe()"
   ]
  },
  {
   "cell_type": "markdown",
   "id": "f98deb98-f682-4d33-a6f8-75344d500bb0",
   "metadata": {},
   "source": [
    "#### Materiály na dodatočné štúdium\n",
    "Stránky sa zaoberajú datasetom Iris, jeho vznikom a rozborom dát. <br>\n",
    "https://towardsdatascience.com/the-iris-dataset-a-little-bit-of-history-and-biology-fb4812f5a7b5 <br>\n",
    "https://medium.com/analytics-vidhya/exploratory-data-analysis-iris-dataset-4df6f045cda"
   ]
  }
 ],
 "metadata": {
  "kernelspec": {
   "display_name": "Python 3",
   "language": "python",
   "name": "python3"
  },
  "language_info": {
   "codemirror_mode": {
    "name": "ipython",
    "version": 3
   },
   "file_extension": ".py",
   "mimetype": "text/x-python",
   "name": "python",
   "nbconvert_exporter": "python",
   "pygments_lexer": "ipython3",
   "version": "3.8.8"
  }
 },
 "nbformat": 4,
 "nbformat_minor": 5
}
