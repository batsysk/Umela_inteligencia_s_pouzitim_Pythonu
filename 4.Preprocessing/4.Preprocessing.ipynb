{
 "cells": [
  {
   "cell_type": "markdown",
   "id": "d00a399f-733e-4a37-beec-8b85d4e1b61f",
   "metadata": {},
   "source": [
    "# Predspracovanie dát\n",
    "\n",
    "Prečo je tento krok dôležitý?\n",
    "* potrebujeme mať **konzistentné dáta**\n",
    "    * ak nemáme *zadané hodnoty*, napríklad: šírka=\"\"\n",
    "    * ak máme *chybné dáta*, napríklad: šírka=\"-1\"\n",
    "    * ak sa *zmenila logika v dátach*, napríklad ak sme mali najskôr kategórie:['a','b','c'], ale neskôr sme začali používať [0,1,2]\n",
    "* aby sme mali **kvalitné dáta** na **kvalitné výsledky**\n",
    "    * napríklad aby sa nám neopakovali dáta - spôsobilo by to skreslenie výsledkov\n",
    "        \n",
    "Možností je veľa, vo výsledku sa snažíme o to, aby naše dáta boli *pochopiteľné pre model*. <br>\n",
    "Ukážeme si základné úpravy, ktoré môžeme vykonať na datasete, aby sme s ním mohli následne pracovať."
   ]
  },
  {
   "cell_type": "markdown",
   "id": "0c09683b-433a-49db-90af-393b7aca1a60",
   "metadata": {},
   "source": [
    "Najskôr si ukážeme ako vytvoriť **vlastný dataset** (pre zjednodušenie budeme pracovať s jednoduchou maticou).<br>\n",
    "\n",
    "* keďže dataset je matica potrebujeme knižnicu, ktorá vie pracovať s maticami a teda použijeme numpy a následne si vytvoríme *ľubovoľnú maticu*"
   ]
  },
  {
   "cell_type": "code",
   "execution_count": 1,
   "id": "6a5ed4c4-52e9-4779-aa79-971b8ed62467",
   "metadata": {},
   "outputs": [
    {
     "data": {
      "text/plain": [
       "array([[ 1.,  5., 10.],\n",
       "       [-2.,  0.,  0.],\n",
       "       [ 9., 13.,  2.]])"
      ]
     },
     "execution_count": 1,
     "metadata": {},
     "output_type": "execute_result"
    }
   ],
   "source": [
    "import numpy as np\n",
    "vlastny_dataset = np.array([[  1.,  5., 10.],\n",
    "                            [ -2.,  0.,  0.],\n",
    "                            [  9., 13.,  2.]])\n",
    "vlastny_dataset"
   ]
  },
  {
   "cell_type": "markdown",
   "id": "6a2608bd-14f1-4514-97c6-b5f2d8afbafa",
   "metadata": {},
   "source": [
    "Keďže sme na vytvorenie datasetu využili knižnicu NumPy, tak môžeme použiť aj jej metódy. <br>\n",
    "Napríklad:"
   ]
  },
  {
   "cell_type": "code",
   "execution_count": 2,
   "id": "d14e4876-4bfd-4d70-8132-807aaee9bc13",
   "metadata": {},
   "outputs": [
    {
     "data": {
      "text/plain": [
       "(3, 3)"
      ]
     },
     "execution_count": 2,
     "metadata": {},
     "output_type": "execute_result"
    }
   ],
   "source": [
    "vlastny_dataset.shape"
   ]
  },
  {
   "cell_type": "code",
   "execution_count": 3,
   "id": "ecc863d4-7f14-46e6-97ee-afe8ea8c5eb3",
   "metadata": {},
   "outputs": [
    {
     "data": {
      "text/plain": [
       "9"
      ]
     },
     "execution_count": 3,
     "metadata": {},
     "output_type": "execute_result"
    }
   ],
   "source": [
    "vlastny_dataset.size"
   ]
  },
  {
   "cell_type": "code",
   "execution_count": 4,
   "id": "8bddd111-bf49-4486-b5f6-9a380ea75847",
   "metadata": {},
   "outputs": [
    {
     "data": {
      "text/plain": [
       "dtype('float64')"
      ]
     },
     "execution_count": 4,
     "metadata": {},
     "output_type": "execute_result"
    }
   ],
   "source": [
    "vlastny_dataset.dtype"
   ]
  },
  {
   "cell_type": "markdown",
   "id": "8f0f1ec9-1b02-406a-99d5-f8fa012c6216",
   "metadata": {},
   "source": [
    "Tieto a podobné metódy nám často krát pomôžu pri rozsiahlych datasetoch a ich analýze."
   ]
  },
  {
   "cell_type": "markdown",
   "id": "85bb5ca9-3cb8-40ee-8ff3-e0b6d2dbceb3",
   "metadata": {},
   "source": [
    "## Pri úprave dát máme viaceré techniky, tie delíme do základných kategórií: \n",
    "* Imputácia\n",
    "* Mapovanie kategorických dát\n",
    "* Škálovanie, Normalizácia a štandardizácia"
   ]
  },
  {
   "cell_type": "markdown",
   "id": "5a4abd26-5dc1-4ea0-aff9-e2ab198b914f",
   "metadata": {
    "tags": []
   },
   "source": [
    "### 1) Imputácia\n",
    "* dopĺňa *chýbajúce dáta* a opravuje *poškodené dáta*\n",
    "* patrí sem: **mean, media a most_frequent**, kde chybné hodnoty nahrádzame:\n",
    "    * mean: priemernou hodnotou stĺpca z datasetu\n",
    "    * median: mediánom zo stĺpca datasetu\n",
    "    * most_frequent: najčastejšou hodnotou stĺpca datasetu\n",
    "    \n",
    "* ukážka:\n",
    "    Máme maticu, ktorá nemá nadefinované niektoré hodnoty:"
   ]
  },
  {
   "cell_type": "code",
   "execution_count": 5,
   "id": "3d4806c0-09a2-4165-b0a8-e54ccb97ce37",
   "metadata": {},
   "outputs": [
    {
     "data": {
      "text/plain": [
       "array([[nan,  1.],\n",
       "       [nan,  0.],\n",
       "       [-3.,  2.],\n",
       "       [ 1., nan]])"
      ]
     },
     "execution_count": 5,
     "metadata": {},
     "output_type": "execute_result"
    }
   ],
   "source": [
    "data =  np.array([[np.nan,      1],\n",
    "                  [np.nan,      0],\n",
    "                  [    -3,      2],\n",
    "                  [     1, np.nan]])\n",
    "data"
   ]
  },
  {
   "cell_type": "markdown",
   "id": "02768430-6405-49c6-b1ba-3330142f4614",
   "metadata": {},
   "source": [
    "* pri imputácii si môžeme zvoliť stratégiu: *priemerná hodnota*, *medián* (iba pri číselných dátach), *najčastejšia hodnota* (aj pri nečíselných dátach) alebo *konštanta*"
   ]
  },
  {
   "cell_type": "markdown",
   "id": "fc4fbeaf-22a1-471a-a802-543e059d5dc7",
   "metadata": {},
   "source": [
    "* **priemerná hodnota** - aritmetický priemer, ide o súčet všetkých hodnôt vydelený ich počtom"
   ]
  },
  {
   "cell_type": "code",
   "execution_count": 6,
   "id": "e00aaeee-fe62-42e3-ab63-25ae776bada5",
   "metadata": {},
   "outputs": [
    {
     "data": {
      "text/plain": [
       "array([[-1.,  1.],\n",
       "       [-1.,  0.],\n",
       "       [-3.,  2.],\n",
       "       [ 1.,  1.]])"
      ]
     },
     "execution_count": 6,
     "metadata": {},
     "output_type": "execute_result"
    }
   ],
   "source": [
    "from sklearn.impute import SimpleImputer\n",
    "imputer = SimpleImputer(strategy='mean')\n",
    "imputed = imputer.fit_transform(data)\n",
    "data_imputed = imputer.fit_transform(imputed)\n",
    "data_imputed"
   ]
  },
  {
   "cell_type": "markdown",
   "id": "739205d3-72ea-4916-a109-d84dab7e602c",
   "metadata": {},
   "source": [
    "* **medián** - predstavuje strednú hodnotu, čiže hodnotu, ktorá delí zoradené dáta na dve polovice a to menšie od mediánu a väčšie od mediánu"
   ]
  },
  {
   "cell_type": "code",
   "execution_count": 7,
   "id": "4e3eb8ce-d6e9-4a36-b8e0-d80b02f24128",
   "metadata": {},
   "outputs": [
    {
     "data": {
      "text/plain": [
       "array([[-1.,  1.],\n",
       "       [-1.,  0.],\n",
       "       [-3.,  2.],\n",
       "       [ 1.,  1.]])"
      ]
     },
     "execution_count": 7,
     "metadata": {},
     "output_type": "execute_result"
    }
   ],
   "source": [
    "from sklearn.impute import SimpleImputer\n",
    "imputer = SimpleImputer(strategy='median')\n",
    "imputed = imputer.fit_transform(data)\n",
    "data_imputed = imputer.fit_transform(imputed)\n",
    "data_imputed"
   ]
  },
  {
   "cell_type": "markdown",
   "id": "1d77b198-b902-4e4b-b641-e7c16d6b30a9",
   "metadata": {},
   "source": [
    "* **konštanta** - nemenná veličina/hodnota"
   ]
  },
  {
   "cell_type": "code",
   "execution_count": 8,
   "id": "2a524cc1-5505-4ed7-9ea7-9dff6c64da5e",
   "metadata": {},
   "outputs": [
    {
     "data": {
      "text/plain": [
       "array([[ 0.,  1.],\n",
       "       [ 0.,  0.],\n",
       "       [-3.,  2.],\n",
       "       [ 1.,  0.]])"
      ]
     },
     "execution_count": 8,
     "metadata": {},
     "output_type": "execute_result"
    }
   ],
   "source": [
    "from sklearn.impute import SimpleImputer\n",
    "imputer = SimpleImputer(strategy='constant')\n",
    "imputed = imputer.fit_transform(data)\n",
    "data_imputed = imputer.fit_transform(imputed)\n",
    "data_imputed"
   ]
  },
  {
   "cell_type": "markdown",
   "id": "e57a509f-acc8-4292-b907-818fedbbf180",
   "metadata": {},
   "source": [
    "### 2) Mapovanie kategorických dát\n",
    "* vytvárame mapu, ktorá prepája kategorické názvy s ich číselnými hodnotami\n",
    "\n",
    "Ukážeme najjednoduchšie mapovanie, kde chceme namapovať druhy jabĺk"
   ]
  },
  {
   "cell_type": "code",
   "execution_count": 9,
   "id": "cf53a811-6ce0-42ca-8482-761d7a51b336",
   "metadata": {},
   "outputs": [
    {
     "data": {
      "text/plain": [
       "array([0, 1, 2, 3], dtype=int64)"
      ]
     },
     "execution_count": 9,
     "metadata": {},
     "output_type": "execute_result"
    }
   ],
   "source": [
    "from sklearn import preprocessing\n",
    "label_encoder = preprocessing.LabelEncoder()\n",
    "label_encoder.fit_transform(['gala','jonagold','pinova','topaz'])"
   ]
  },
  {
   "cell_type": "markdown",
   "id": "1acc5dd8-0015-4413-aff9-3cab45c22e21",
   "metadata": {},
   "source": [
    "Teraz si vieme spätne pozrieť, aké vlastnosti sme zakódovali pod čísla 0,1,2,3."
   ]
  },
  {
   "cell_type": "code",
   "execution_count": 10,
   "id": "25a864e1-652c-48f9-b393-2e50c58b6cdf",
   "metadata": {},
   "outputs": [
    {
     "data": {
      "text/plain": [
       "array(['gala', 'jonagold', 'pinova', 'topaz'], dtype='<U8')"
      ]
     },
     "execution_count": 10,
     "metadata": {},
     "output_type": "execute_result"
    }
   ],
   "source": [
    "label_encoder.inverse_transform([0, 1, 2, 3])"
   ]
  },
  {
   "cell_type": "markdown",
   "id": "fcda6df7-f544-4f0e-b5f8-d7430b401cc4",
   "metadata": {},
   "source": [
    "Medzi základné mapovacie techniky patrí aj *OneHotEncoder*, ktorý popíšeme na nasledujúcom príklade."
   ]
  },
  {
   "cell_type": "markdown",
   "id": "d600c7a0-3945-4e6e-8793-112ad5912633",
   "metadata": {},
   "source": [
    "| Producer/Mark | Color | Engine | Price |\n",
    "| --- | --- | --- | --- |\n",
    "| VW Golf | R | electrical | 18450 |\n",
    "| VW Tiguan | R | diesel | 22560 |\n",
    "| Ford Focus | G | gasoline | 17600 |\n",
    "| Renault Clio | G | gasoline | 10999 |\n",
    "| Honda Civic | - | diesel | 17999 |"
   ]
  },
  {
   "cell_type": "markdown",
   "id": "b12054ec-019f-4390-ab4b-ece69a44b599",
   "metadata": {},
   "source": [
    "Po aplikovaní OHE bude dataset vyzerať nasledujúco:"
   ]
  },
  {
   "cell_type": "markdown",
   "id": "723d00cc-f0dd-4aed-bd8f-687a06751306",
   "metadata": {},
   "source": [
    "| Producer/Mark | Color | Electrical | Diesel | Gasoline | Price |\n",
    "| --- | --- | --- | --- | --- | --- |\n",
    "| VW Golf | R | 1.0 | 0.0 | 0.0 | 18450 |\n",
    "| VW Tiguan | R | 0.0 | 1.0 | 0.0 | 22560 |\n",
    "| Ford Focus | G | 0.0 | 0.0 | 1.0 | 17600 |\n",
    "| Renault Clio | G | 0.0 | 0.0 | 1.0 | 10999 |\n",
    "| Honda Civic | - | 0.0 | 1.0 | 0.0 | 17999 |"
   ]
  },
  {
   "cell_type": "markdown",
   "id": "e8db571a-591d-4372-9f45-e5f65fe68473",
   "metadata": {},
   "source": [
    "Z príkladu vidíme, že OneHotEncoder rozdelí prvky podľa kategórii a priradí im binárne hodnoty. Využíva sa v prípadoch, keď labelEncoder nie je dostačujúci alebo priamo nie je vhodný. LabelEncoder automaticky dáva váhu kategóriám keďže im pripisuje celé čísla a navyšuje ich, čomu sa vyhneme používaním 0 a 1 ako pri OnehotEncoder."
   ]
  },
  {
   "cell_type": "markdown",
   "id": "d3b1a944-f53e-431d-bf70-f6bdbddf6a55",
   "metadata": {},
   "source": [
    "### 3) Škálovanie, normalizácia a štandardizácia\n",
    "#### **Škálovanie**\n",
    "* škálovanie je potrebné pri datasetoch, ktoré majú rôzne veľké intervaly a ak by sa nevykonalo, tak jednotlivé vlastnosti by nám skresľovali výsledky\n",
    "* dáta sa dajú na jednu škálu"
   ]
  },
  {
   "cell_type": "markdown",
   "id": "08f6c21e-ca34-47ee-8a2e-b40dc910edab",
   "metadata": {},
   "source": [
    "#### Škálovacie techniky:\n",
    "Techniky využívame aby sme nemali v datasete vysoké hodnoty v jednom stĺpci a v druhom neporovnateľne nízke, pri výpočtoch by mali vysoké väčšiu váhu a skresľovali výpočty. Snažíme sa teda dať hodnoty na rovnaký pomer a zachovať ich rozptyl."
   ]
  },
  {
   "cell_type": "markdown",
   "id": "d7132a5c-eee1-441d-b20d-3b7a9270db02",
   "metadata": {},
   "source": [
    "##### **Štandardizácia**\n",
    "* používame ju ak porovnávame hodnoty, ktoré sú v rôznych jednotkách alebo ak má náš dataset gaussové rozmiestnenie hodnôt\n",
    "* škáluje hodnoty tak, aby mali priemernú hodnotu 0 a smerodajnú odchýlku 1\n",
    "* pre štandardizáciu využívame *StandardScaler*\n",
    "\n",
    "##### **Normalizácia**\n",
    "* používa sa vtedy, ak hodnoty v datasete majú rôzne váhy alebo nevieme aké je ich distribúcia\n",
    "* používa sa minimálna a maximálna hodnota\n",
    "* škáluje hodnoty do intervalu [0,1] alebo [-1,1] \n",
    "* pre normalizáciu sa využíva metóda *MinMaxScaler*"
   ]
  },
  {
   "cell_type": "markdown",
   "id": "531708dd-3515-4174-88bb-fd75af53e59d",
   "metadata": {},
   "source": [
    "* vytvoríme si jednoduchú maticu, ktorá má *2 vlastnosti a 4 prvky*\n",
    "* metóda *StandardScaler* transformuje data (viacej o trénovacích a testovacích dátach a učení sa dozviete v kapitole 8) "
   ]
  },
  {
   "cell_type": "code",
   "execution_count": 11,
   "id": "e62405f5-11ee-448d-9acb-567de01f5107",
   "metadata": {},
   "outputs": [
    {
     "data": {
      "text/plain": [
       "array([[ 1.,  1.],\n",
       "       [ 1., -1.],\n",
       "       [-1.,  1.],\n",
       "       [-1., -1.]])"
      ]
     },
     "execution_count": 11,
     "metadata": {},
     "output_type": "execute_result"
    }
   ],
   "source": [
    "data = np.array([[ 1, 1],\n",
    "                 [ 1, 0],\n",
    "                 [ 0, 1],\n",
    "                 [ 0, 0]])\n",
    "scaler = preprocessing.StandardScaler()\n",
    "scaler_transform = scaler.fit_transform(data)\n",
    "scaler_transform"
   ]
  },
  {
   "cell_type": "markdown",
   "id": "e5c00eb2-aa0b-49ca-88ef-36d45668cef5",
   "metadata": {},
   "source": [
    "Vzniknutá *transformovaná matica* má **škálované dáta** ( 1->0.5, 2->1, 0->0 ), dáta si **zachovávajú vzdialenosti** medzi sebou.\n",
    "* každá vlastnosť má **priemer 0**."
   ]
  },
  {
   "cell_type": "code",
   "execution_count": 12,
   "id": "77f47547-231d-4df8-b708-93e9b838a63e",
   "metadata": {},
   "outputs": [
    {
     "data": {
      "text/plain": [
       "array([0., 0.])"
      ]
     },
     "execution_count": 12,
     "metadata": {},
     "output_type": "execute_result"
    }
   ],
   "source": [
    "scaler_transform.mean(axis=0)"
   ]
  },
  {
   "cell_type": "markdown",
   "id": "695bec38-4a6f-456a-ac4d-c044509a05b5",
   "metadata": {},
   "source": [
    "* a ich **smerodajná odchýlka je 1**, čiže hodnoty sa blížia k strednej hodnote"
   ]
  },
  {
   "cell_type": "code",
   "execution_count": 13,
   "id": "d2351357-695f-4f3e-9972-9e885009ae5e",
   "metadata": {},
   "outputs": [
    {
     "data": {
      "text/plain": [
       "array([1., 1.])"
      ]
     },
     "execution_count": 13,
     "metadata": {},
     "output_type": "execute_result"
    }
   ],
   "source": [
    "scaler_transform.std(axis=0)"
   ]
  },
  {
   "cell_type": "markdown",
   "id": "6018b72b-530b-4626-858c-eecc07389db4",
   "metadata": {},
   "source": [
    "Ďalší príklad pre štandardizáciu:"
   ]
  },
  {
   "cell_type": "code",
   "execution_count": 14,
   "id": "a45e38ff-ca6f-4f1a-9609-19f3ac1f4cc3",
   "metadata": {},
   "outputs": [
    {
     "data": {
      "text/plain": [
       "array([[ 0.        , -1.22474487,  1.22474487],\n",
       "       [ 1.22474487,  0.        ,  0.        ],\n",
       "       [-1.22474487,  1.22474487, -1.22474487]])"
      ]
     },
     "execution_count": 14,
     "metadata": {},
     "output_type": "execute_result"
    }
   ],
   "source": [
    "data = np.array([[ 10, -100,  2000],\n",
    "                 [ 20,    0,     0],\n",
    "                 [  0,  100, -2000]])\n",
    "standard_scaler = preprocessing.StandardScaler()\n",
    "standard_scaler_transformed = standard_scaler.fit_transform(data)\n",
    "standard_scaler_transformed"
   ]
  },
  {
   "cell_type": "code",
   "execution_count": 15,
   "id": "95cf5eca-5fe4-4c57-aef7-13bebfe9ea76",
   "metadata": {},
   "outputs": [
    {
     "data": {
      "text/plain": [
       "array([0., 0., 0.])"
      ]
     },
     "execution_count": 15,
     "metadata": {},
     "output_type": "execute_result"
    }
   ],
   "source": [
    "standard_scaler_transformed.mean(0)"
   ]
  },
  {
   "cell_type": "code",
   "execution_count": 16,
   "id": "c8548bb4-7655-4f1b-a44b-a1ffea8a06ce",
   "metadata": {},
   "outputs": [
    {
     "data": {
      "text/plain": [
       "array([1., 1., 1.])"
      ]
     },
     "execution_count": 16,
     "metadata": {},
     "output_type": "execute_result"
    }
   ],
   "source": [
    "standard_scaler_transformed.std(0)"
   ]
  },
  {
   "cell_type": "markdown",
   "id": "8e7246ad-c773-4d99-b698-b27810bec2b4",
   "metadata": {},
   "source": [
    "* dáta sa škálovali a máme pre každú vlastnosť priemernú hodnotu 0 a smerodajnú odchýlku 1"
   ]
  },
  {
   "cell_type": "markdown",
   "id": "5f9628e1-bfd6-40b7-a44d-b0a8a8a6c9d0",
   "metadata": {},
   "source": [
    "Príklad na normalizáciu:"
   ]
  },
  {
   "cell_type": "code",
   "execution_count": 17,
   "id": "cd28f8ef-5fd5-4094-b12e-c74e480385dd",
   "metadata": {},
   "outputs": [],
   "source": [
    "data = np.array([[ 1, -1,  2],\n",
    "                 [ 2,  0,  0],\n",
    "                 [ 0,  1, -2]])\n",
    "min_max_scaler = preprocessing.MinMaxScaler()"
   ]
  },
  {
   "cell_type": "code",
   "execution_count": 18,
   "id": "5c060107-ec17-4bbd-b3d8-99900c8f61f5",
   "metadata": {},
   "outputs": [
    {
     "data": {
      "text/plain": [
       "array([[0.5, 0. , 1. ],\n",
       "       [1. , 0.5, 0.5],\n",
       "       [0. , 1. , 0. ]])"
      ]
     },
     "execution_count": 18,
     "metadata": {},
     "output_type": "execute_result"
    }
   ],
   "source": [
    "min_max_transformed = min_max_scaler.fit_transform(data)\n",
    "min_max_transformed"
   ]
  },
  {
   "cell_type": "code",
   "execution_count": 19,
   "id": "4a9d1271-8986-4a39-bd20-c9e0e5f6f832",
   "metadata": {},
   "outputs": [
    {
     "data": {
      "text/plain": [
       "array([0.5 , 0.5 , 0.25])"
      ]
     },
     "execution_count": 19,
     "metadata": {},
     "output_type": "execute_result"
    }
   ],
   "source": [
    "min_max_scaler.scale_"
   ]
  },
  {
   "cell_type": "markdown",
   "id": "95922ab9-10c4-4441-91e3-23fcc2b42416",
   "metadata": {},
   "source": [
    "#### 1. otázka\n",
    "**Priraďte príklady k škálovacím technikám (normalizácia a štandardizácia):**\n",
    "1) Máme dataset, kde je *vek a príjem*. Jedna vlastnosť je v rozmedzí 0-100 a druhá 0-100 000. -ii\n",
    "2) Dataset obsahuje dáta o *výške a váhe* ľudí. Výška je v cm a váha je v kg. -i <br>\n",
    "i) štandardizácia <br>\n",
    "ii) normalizácia\n",
    "\n",
    "\"Správne. Pri prvom datasete musíme normalizovať, inak by mal príjem omnoho väčšiu váhu. Pri druhom datasete máme rôzne jednotky a teda ide o štandardizáciu.\""
   ]
  },
  {
   "cell_type": "markdown",
   "id": "0b00521a-f803-4d61-ab84-17d902ee7679",
   "metadata": {},
   "source": [
    "#### 1. programovacia úloha\n",
    "**Vyskúšajte si spraviť škálovanie na datasete:**<br>\n",
    "data =  np.array( \n",
    "[[  2,  1, -2], \n",
    "[  4,  0,  7], \n",
    "[ -3,  2,  1], \n",
    "[  1, -2,  4]]) <br>\n",
    "**a overte, či dataset po transformácii spĺňa:** <br>\n",
    "    - priemerná hodnota jednotlivých vlastností je 0 <br>\n",
    "    - smerodajná odchýlka vlastností je 1 <br>"
   ]
  },
  {
   "cell_type": "code",
   "execution_count": 11,
   "id": "d18010ab-1e51-4822-a09f-8bc3ee23ec6a",
   "metadata": {},
   "outputs": [
    {
     "data": {
      "text/plain": [
       "array([0., 0., 0.])"
      ]
     },
     "execution_count": 11,
     "metadata": {},
     "output_type": "execute_result"
    }
   ],
   "source": [
    "# riešenie\n",
    "from sklearn import preprocessing\n",
    "import numpy as np\n",
    "\n",
    "data =  np.array([[  2,  1, -2],\n",
    "                  [  4,  0,  7],\n",
    "                  [ -3,  2,  1],\n",
    "                  [  1, -2,  4]])\n",
    "\n",
    "scaler = preprocessing.StandardScaler().fit(data)\n",
    "scaler_transform = scaler.transform(data)\n",
    "#alebo\n",
    "# scaler = preprocessing.StandardScaler()\n",
    "# scaler_transform = scaler.fit_transform(data)\n",
    "\n",
    "scaler_transform.mean(axis=0)\n",
    "# scaler_transform.std(axis=0)"
   ]
  },
  {
   "cell_type": "code",
   "execution_count": 12,
   "id": "38164192-014a-47dd-8116-3a6633400988",
   "metadata": {},
   "outputs": [
    {
     "data": {
      "text/plain": [
       "array([1., 1., 1.])"
      ]
     },
     "execution_count": 12,
     "metadata": {},
     "output_type": "execute_result"
    }
   ],
   "source": [
    "standard_scaler=preprocessing.StandardScaler()\n",
    "standard_scaler_transformed=standard_scaler.fit_transform(data)\n",
    "standard_scaler_transformed.mean(axis=0)\n",
    "standard_scaler_transformed.std(axis=0)"
   ]
  },
  {
   "cell_type": "markdown",
   "id": "53beffd2-5b96-4789-953d-9848782e7d0b",
   "metadata": {},
   "source": [
    "#### Materiály na dodatočné štúdium\n",
    "Stránka, ktorá popisuje tvorbu datasetu a na čo si dávať pozor. <br>\n",
    "https://blog.cloudfactory.com/steps-to-create-custom-data-sets-for-computer-vision <br>\n",
    "\n",
    "Dokumentácia k metódam knižnice NumPy. <br>\n",
    "https://numpy.org/doc/stable/user/quickstart.html <br>\n",
    "\n",
    "Komplexný rozbor predspracovania dát, popísaný do detailov. <br>\n",
    "https://bdataanalytics.biomedcentral.com/articles/10.1186/s41044-016-0014-0"
   ]
  }
 ],
 "metadata": {
  "kernelspec": {
   "display_name": "Python 3",
   "language": "python",
   "name": "python3"
  },
  "language_info": {
   "codemirror_mode": {
    "name": "ipython",
    "version": 3
   },
   "file_extension": ".py",
   "mimetype": "text/x-python",
   "name": "python",
   "nbconvert_exporter": "python",
   "pygments_lexer": "ipython3",
   "version": "3.8.8"
  }
 },
 "nbformat": 4,
 "nbformat_minor": 5
}
