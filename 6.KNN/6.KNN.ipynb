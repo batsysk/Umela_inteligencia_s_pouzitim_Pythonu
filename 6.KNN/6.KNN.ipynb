{
 "cells": [
  {
   "cell_type": "markdown",
   "id": "6e8ed12a-715a-4118-8fc1-c59569843470",
   "metadata": {},
   "source": [
    "# K-nearest neighbors klasifikácia \n",
    "V predošlej kapitole sme objasnili, aký je rozdiel medzi klasifikáciou a regresiou. <br>\n",
    "V tejto kapitole si predstavíme jeden zo základných modelov pre klasifikáciu K-nearest neighbours. <br>\n",
    "Pre lepšie pochopenie si zobrazíme naše dáta z Iris datasetu do grafu ako body."
   ]
  },
  {
   "cell_type": "code",
   "execution_count": 1,
   "id": "0a3194d1-5b50-44e3-ae38-f6a2bbef631d",
   "metadata": {},
   "outputs": [
    {
     "data": {
      "text/plain": [
       "<seaborn.axisgrid.FacetGrid at 0x21d65c592e0>"
      ]
     },
     "execution_count": 1,
     "metadata": {},
     "output_type": "execute_result"
    },
    {
     "data": {
      "image/png": "[encoded data removed]",
      "text/plain": [
       "<Figure size 535.25x432 with 1 Axes>"
      ]
     },
     "metadata": {
      "needs_background": "light"
     },
     "output_type": "display_data"
    }
   ],
   "source": [
    "import seaborn as sns\n",
    "import pandas\n",
    "import matplotlib.pyplot as plt\n",
    "from sklearn.datasets import load_iris\n",
    "url = \"https://archive.ics.uci.edu/ml/machine-learning-databases/iris/iris.data\"\n",
    "names = ['sepal-length', 'sepal-width', 'petal-length', 'petal-width', 'species']\n",
    "iris = pandas.read_csv(url, names=names)\n",
    "sns.FacetGrid(iris, hue=\"species\", height=6) \\\n",
    "   .map(plt.scatter, \"sepal-length\", \"sepal-width\") \\\n",
    "   .add_legend()"
   ]
  },
  {
   "cell_type": "markdown",
   "id": "77832152-64ab-468f-8383-541c44f652d7",
   "metadata": {},
   "source": [
    "## Princíp fungovania KNN: \n",
    "* cieľom je nájsť **K** *najbližších susedov ku každému bodu* a vytvoriť oblasti bodov so spoločnými vlastnosťami, oblasti predstavujú jednotlivé kategórie datasetu\n",
    "* hodnotu K si určujeme my a ovplyvňuje presnosť predikcie, respektíve rýchlosť učenia (viac o presnosti predikcie sa dozviete v kapitole 8)\n",
    "\n",
    "Napríklad pre K=3: <br>\n",
    "obrázok: KNN3.png <br>\n",
    "Z obrázku vidíme, že pre daný bod prevládajú červené, takže bod sa zaradí do červenej kategórie. <br>"
   ]
  },
  {
   "cell_type": "markdown",
   "id": "138227b9-5582-48f4-b967-a5e97882891b",
   "metadata": {},
   "source": [
    "## Ako na to? \n",
    "1) Z knižnice Scikit-learn si naimportujeme KneighborsClassifier, čo je náš model, a dáme si ho do premennej *knn*\n",
    "2) Načítame si Iris dataset do *iris*, dáta priradíme do *X* a kategórie do *y*"
   ]
  },
  {
   "cell_type": "code",
   "execution_count": 2,
   "id": "9a8feabe-d7c5-46f1-8fb9-044cf580b1c6",
   "metadata": {},
   "outputs": [],
   "source": [
    "from sklearn.neighbors import KNeighborsClassifier\n",
    "from sklearn.datasets import load_iris\n",
    "knn = KNeighborsClassifier(n_neighbors=1)\n",
    "iris = load_iris()\n",
    "X = iris.data\n",
    "y = iris.target"
   ]
  },
  {
   "cell_type": "markdown",
   "id": "8bdc689b-c907-4952-950b-38a9850898c1",
   "metadata": {},
   "source": [
    "## 1. otázka\n",
    "(2 správne odpovede, checkox) <br>\n",
    "\n",
    "**Čo ukladáme do premenných X a y?** <br>\n",
    "(X = iris.data, y = iris.target)\n",
    "1. y predstavuje 2D maticu, ktorá obsahuje úplne všetky údaje zozbierané k datasetu Iris\n",
    "2. y predstavuje 1D maticu celých čísel, ktorými sú zakódované latinské názvy rastlín nášho datasetu **SPRÁVNE**\n",
    "3. X predstavuje 1D maticu, ktorá obsahuje charakteristiku prvku, čiže máme na výber viacero X\n",
    "4. X predstavuje dáta datasetu, čiže prvky a ich vlastnosti uložené v 2D matici **SPRÁVNE**\n",
    "\n",
    "Pri správnej odpovedi sa zobrazí okno:\n",
    "\"Správne odpovede, dáta a kategórie sme si uložili do premenných kvôli uľahčeniu práce.\""
   ]
  },
  {
   "cell_type": "markdown",
   "id": "ad52700f-60e8-4aa1-a208-089f1f8c5c54",
   "metadata": {},
   "source": [
    "3) Teraz potrebujeme inicializovať model, vložiť do neho dáta X a y a na základe nich model učiť . <br>\n",
    "    * v implementácii KNeighborsClassifier je premenná K označená ako *n_neighbors*\n",
    "    * n_neighbors má prednastavenú hodnotu 1 a teda model bude hľadať jedného najbližšieho suseda\n",
    "    * toto je aj parameter, ktorý môžeme meniť a tým ovplyvňovať celý proces"
   ]
  },
  {
   "cell_type": "code",
   "execution_count": 3,
   "id": "81be6cf8-ea2b-40de-8f25-854afd1aacfb",
   "metadata": {},
   "outputs": [
    {
     "data": {
      "text/plain": [
       "KNeighborsClassifier(n_neighbors=1)"
      ]
     },
     "execution_count": 3,
     "metadata": {},
     "output_type": "execute_result"
    }
   ],
   "source": [
    "knn.fit(X,y)"
   ]
  },
  {
   "cell_type": "markdown",
   "id": "fde76bac-1e43-4616-9e92-491340e2578b",
   "metadata": {},
   "source": [
    "4. Následne dáme modelu predikovať výsledky na základe nových, pre neho neznámych, dát.\n",
    "    * našim výsledkom je číslo, ktoré reprezentuje názov druhu rastliny - virginica"
   ]
  },
  {
   "cell_type": "code",
   "execution_count": 4,
   "id": "e7fba702-3f7c-4ea0-8844-155b44a66b9f",
   "metadata": {},
   "outputs": [
    {
     "data": {
      "text/plain": [
       "array([2])"
      ]
     },
     "execution_count": 4,
     "metadata": {},
     "output_type": "execute_result"
    }
   ],
   "source": [
    "knn.predict([[1, 5, 3, 4]])"
   ]
  },
  {
   "cell_type": "markdown",
   "id": "55158a42-4b9e-4813-9bf5-f76e0684d2f1",
   "metadata": {},
   "source": [
    "## 1. programovacia úloha\n",
    "**V tejto úlohe spravte predikciu pomocou KNN modelu klasifikácie na Iris datasete, kde:**<br>\n",
    "    * model bude hľadať 4och najbližších susedov <br>\n",
    "    * prvý prvok, na ktorom budeme robiť predikciu, bude mať hodnoty: [2.5, 1.02, 3, 1.4] <br>\n",
    "    * druhý prvok, na ktorom budeme robiť predikciu, bude mať hodnoty: [1.5, 7.3, 2, 5]\n",
    "\n",
    "Pri prvom riešení sa zobrazí: Správne riešenie. <br>\n",
    "Pri druhom riešení sa zobrazí: Správne riešenie, *predict* umožňuje taktiež zadávať viaceré predikcie ak ich uložíme v matici: merged = [[2.5, 1.02, 3, 1.4], [1.5, 7.3, 2, 5]], následne sa zavolá na *merged* metóda *predict*."
   ]
  },
  {
   "cell_type": "code",
   "execution_count": 5,
   "id": "63b8b4db-8bb8-408b-ad05-2ea1818983e9",
   "metadata": {},
   "outputs": [
    {
     "data": {
      "text/plain": [
       "array([0])"
      ]
     },
     "execution_count": 5,
     "metadata": {},
     "output_type": "execute_result"
    }
   ],
   "source": [
    "# riešenie\n",
    "from sklearn.neighbors import KNeighborsClassifier\n",
    "from sklearn.datasets import load_iris\n",
    "knn = KNeighborsClassifier(n_neighbors=4)\n",
    "iris = load_iris()\n",
    "X = iris.data\n",
    "y = iris.target\n",
    "knn.fit(X,y)\n",
    "\n",
    "# 1.riešenie - spojenie predikcií do jednej premennej\n",
    "merged = [[2.5, 1.02, 3, 1.4], [1.5, 7.3, 2, 5]]\n",
    "knn.predict(merged)\n",
    "\n",
    "# 2.riešenie - oddelené predikcie\n",
    "prediction1 = [[2.5, 1.02, 3, 1.4]]\n",
    "knn.predict(prediction1)\n",
    "prediction2 = [[1.5, 7.3, 2, 5]]\n",
    "knn.predict(prediction2)\n"
   ]
  },
  {
   "cell_type": "markdown",
   "id": "3becce03-2979-4acd-80fe-cda0ce5c494e",
   "metadata": {},
   "source": [
    "#### Materiály na dodatočné štúdium\n",
    "Pre lepšie pochopenie KNN odporúčame: <br>\n",
    "https://towardsdatascience.com/machine-learning-basics-with-the-k-nearest-neighbors-algorithm-6a6e71d01761 <br>\n",
    "https://towardsdatascience.com/machine-learning-classifiers-a5cc4e1b0623"
   ]
  }
 ],
 "metadata": {
  "kernelspec": {
   "display_name": "Python 3",
   "language": "python",
   "name": "python3"
  },
  "language_info": {
   "codemirror_mode": {
    "name": "ipython",
    "version": 3
   },
   "file_extension": ".py",
   "mimetype": "text/x-python",
   "name": "python",
   "nbconvert_exporter": "python",
   "pygments_lexer": "ipython3",
   "version": "3.8.8"
  }
 },
 "nbformat": 4,
 "nbformat_minor": 5
}
