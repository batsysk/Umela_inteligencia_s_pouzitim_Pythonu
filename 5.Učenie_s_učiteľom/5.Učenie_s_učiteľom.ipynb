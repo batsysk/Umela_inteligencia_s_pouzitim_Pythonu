{
 "cells": [
  {
   "cell_type": "markdown",
   "id": "16182fdc-b66a-47fa-9404-8ae803b5496e",
   "metadata": {},
   "source": [
    "# Učenie s učiteľom\n",
    "\n",
    "Existujú dva typy učenia s učiteľom a to: \n",
    "* **klasifikácia** kde je odpoveď hľadaná pomocou kritérií, ktoré poznáme \n",
    "    * z pravidla ide o *kvalitatívne* premenné, ktoré nadobúdajú jednu hodnotu z viacerých preddefinovaných hodnôt \n",
    "    * napríklad: hľadáme do ktorej kategórie patrí kvet, máme veľkosti jeho okvetných a kališných lístkov a na základe nich sa vieme rozhodnúť \n",
    "* **regresia** kde je odpoveď spojitá hodnota \n",
    "    * z pravidla ide o *kvantitatívne* premenné \n",
    "    * napríklad ceny domov \n",
    "           \n",
    "    \n",
    "Čo znamená kvalitatívny a kvantitatívny? <br>\n",
    "Pod **kvantitatívnymi** hodnotami si môžeme predstaviť **čísla**. <br>\n",
    "Pri **kvalitatívnych** hodnotách ide o **kategórie**, napríklad muž, žena. Avšak tiež môžu byť prezentované číselne. <br>\n",
    "\n",
    "### Dôležité!\n",
    "Je potrebné aby sme sa riadili vlastným rozumom pri vyberaní typu učenia s učiteľom.<br>\n",
    "**Nie vždy platí priradenie kvantitatívne hodnoty -> klasifikácia, kvantitatívne hodnoty -> regresia.** \n"
   ]
  },
  {
   "cell_type": "markdown",
   "id": "dd8e44f4-5200-4b73-a116-fd161271e68b",
   "metadata": {},
   "source": [
    "## 1.otázka\n",
    "Máme dataset, ktorý obsahuje emaily a ich priradenie, či ide o spam alebo normálnu poštu.<br>\n",
    "**Je tento dataset príklad klasifikácie?**<br>\n",
    "        * Áno<br>\n",
    "        * Nie<br>\n",
    "Správne je áno a pri odpovedi sa zobrazí: \"Správne, ide o klasifikačný problém.\""
   ]
  },
  {
   "cell_type": "markdown",
   "id": "1a6b8171-6529-496f-aa49-eea92600acfc",
   "metadata": {},
   "source": [
    "#### Materiály na dodatočné štúdium\n",
    "Stránka pre ďalšie informácie o učení s učiteľom. <br>\n",
    "https://www.techtarget.com/searchenterpriseai/definition/supervised-learning <br>\n",
    "\n",
    "Stránka popisujúca rozdiel medzi učeniami. <br>\n",
    "https://www.ibm.com/cloud/blog/supervised-vs-unsupervised-learning"
   ]
  }
 ],
 "metadata": {
  "kernelspec": {
   "display_name": "Python 3",
   "language": "python",
   "name": "python3"
  },
  "language_info": {
   "codemirror_mode": {
    "name": "ipython",
    "version": 3
   },
   "file_extension": ".py",
   "mimetype": "text/x-python",
   "name": "python",
   "nbconvert_exporter": "python",
   "pygments_lexer": "ipython3",
   "version": "3.8.8"
  }
 },
 "nbformat": 4,
 "nbformat_minor": 5
}
